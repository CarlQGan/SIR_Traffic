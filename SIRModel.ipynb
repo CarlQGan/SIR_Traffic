{
 "cells": [
  {
   "cell_type": "markdown",
   "metadata": {},
   "source": [
    "# SIR Model on Traffic and its Application"
   ]
  },
  {
   "cell_type": "markdown",
   "metadata": {},
   "source": [
    "## Table of Contents\n",
    "TODO: Clean up the notebook\n",
    "- [Simple SIR Model (Saberi)](#Simple-SIR-Model-(Saberi))\n",
    "- [Simple SIR Model (Froese)](#Simple-SIR-Model-(Froese))"
   ]
  },
  {
   "cell_type": "markdown",
   "metadata": {},
   "source": [
    "# Simple SIR Model (Saberi)"
   ]
  },
  {
   "cell_type": "code",
   "execution_count": 1,
   "metadata": {},
   "outputs": [],
   "source": [
    "import numpy as np\n",
    "from scipy.integrate import odeint\n",
    "import matplotlib.pyplot as plt\n",
    "\n",
    "# ipywidgets currently only works with jupyter notebook, not lab\n",
    "# installation guide: https://ipywidgets.readthedocs.io/en/stable/user_install.html\n",
    "import ipywidgets as widgets\n",
    "from ipywidgets import HBox, VBox, interactive\n",
    "from IPython.display import display\n",
    "%matplotlib inline"
   ]
  },
  {
   "cell_type": "code",
   "execution_count": 2,
   "metadata": {},
   "outputs": [],
   "source": [
    "def plot_simple_SIR(beta=0.2, gamma=0.1):\n",
    "    # Total population, N.\n",
    "    N = 1000\n",
    "    # Initial number of infected and recovered individuals, I0 and R0.\n",
    "    I0, R0 = 1, 0\n",
    "    # Everyone else, S0, is susceptible to infection initially.\n",
    "    S0 = N - I0 - R0\n",
    "    # Contact rate, beta, and mean recovery rate, gamma, (in 1/days).\n",
    "    # beta, gamma = 0.2, 1./10 \n",
    "    # A grid of time points (in days)\n",
    "    t = np.linspace(0, 160, 160)\n",
    "\n",
    "    # The SIR model differential equations.\n",
    "    def deriv(y, t, N, beta, gamma):\n",
    "        S, I, R = y\n",
    "        dSdt = -beta * S * I / N\n",
    "        dIdt = beta * S * I / N - gamma * I\n",
    "        dRdt = gamma * I\n",
    "        return dSdt, dIdt, dRdt\n",
    "\n",
    "    # Initial conditions vector\n",
    "    y0 = S0, I0, R0\n",
    "    # Integrate the SIR equations over the time grid, t.\n",
    "    ret = odeint(deriv, y0, t, args=(N, beta, gamma))\n",
    "    S, I, R = ret.T\n",
    "\n",
    "    # Plot the data on three separate curves for S(t), I(t) and R(t)\n",
    "    fig = plt.figure(facecolor='w')\n",
    "    ax = fig.add_subplot(111, facecolor='#dddddd', axisbelow=True)\n",
    "    ax.plot(t, S/1000, 'b', alpha=0.5, lw=2, label='Susceptible')\n",
    "    ax.plot(t, I/1000, 'r', alpha=0.5, lw=2, label='Infected')\n",
    "    ax.plot(t, R/1000, 'g', alpha=0.5, lw=2, label='Recovered with immunity')\n",
    "    ax.set_xlabel('Time /days')\n",
    "    ax.set_ylabel('Number (1000s)')\n",
    "    ax.set_ylim(0,1.2)\n",
    "    ax.yaxis.set_tick_params(length=0)\n",
    "    ax.xaxis.set_tick_params(length=0)\n",
    "    ax.grid(visible=True, which='major', c='w', lw=2, ls='-')\n",
    "    legend = ax.legend()\n",
    "    legend.get_frame().set_alpha(0.5)\n",
    "    for spine in ('top', 'right', 'bottom', 'left'):\n",
    "        ax.spines[spine].set_visible(False)\n",
    "    plt.show()"
   ]
  },
  {
   "cell_type": "code",
   "execution_count": 3,
   "metadata": {},
   "outputs": [
    {
     "data": {
      "image/png": "[encoded data removed]",
      "text/plain": [
       "<Figure size 432x288 with 1 Axes>"
      ]
     },
     "metadata": {},
     "output_type": "display_data"
    },
    {
     "data": {
      "application/vnd.jupyter.widget-view+json": {
       "model_id": "e7c6b71dec914b05979669ffe9886508",
       "version_major": 2,
       "version_minor": 0
      },
      "text/plain": [
       "interactive(children=(FloatSlider(value=0.2, description='beta', max=1.0, step=0.01), FloatSlider(value=0.1, d…"
      ]
     },
     "execution_count": 3,
     "metadata": {},
     "output_type": "execute_result"
    }
   ],
   "source": [
    "# Interactive beta and gamma\n",
    "# beta: effective contact rate\n",
    "# gamma: mean recovery rate, where 1/γ is \n",
    "#        the mean period of time during which \n",
    "#        an infected individual can pass it on\n",
    "\n",
    "interactive_plot = interactive(plot_simple_SIR, beta=(0.0, 1.0, 0.01), gamma=(0.0, 1.0, 0.01))\n",
    "output = interactive_plot.children[-1]\n",
    "output.layout.height = '350px'\n",
    "interactive_plot"
   ]
  },
  {
   "cell_type": "code",
   "execution_count": 4,
   "metadata": {},
   "outputs": [],
   "source": [
    "def plot_fremont_SIR(beta=0.25, gamma=0.05):\n",
    "    # Total population, N.\n",
    "    N = 4397\n",
    "    # Initial number of infected and recovered individuals, I0 and R0.\n",
    "    # rho = 0.9\n",
    "    I0, R0 = 450, 0\n",
    "    # Everyone else, S0, is susceptible to infection initially.\n",
    "    S0 = N - I0 - R0\n",
    "    # Contact rate, beta, and mean recovery rate, gamma, (in 1/days).\n",
    "    # beta, gamma = 0.2, 1./10 \n",
    "    # A grid of time points (in quarters of an hour)\n",
    "    t = np.linspace(0, 24, 24)\n",
    "\n",
    "    # The SIR model differential equations.\n",
    "    def deriv(y, t, N, beta, gamma):\n",
    "        S, I, R = y\n",
    "        dSdt = -beta * S * I / N\n",
    "        dIdt = beta * S * I / N - gamma * I\n",
    "        dRdt = gamma * I\n",
    "        return dSdt, dIdt, dRdt\n",
    "\n",
    "    # Initial conditions vector\n",
    "    y0 = S0, I0, R0\n",
    "    # Integrate the SIR equations over the time grid, t.\n",
    "    ret = odeint(deriv, y0, t, args=(N, beta, gamma))\n",
    "    S, I, R = ret.T\n",
    "\n",
    "    # Plot the data on three separate curves for S(t), I(t) and R(t)\n",
    "    fig = plt.figure(facecolor='w')\n",
    "    ax = fig.add_subplot(111, facecolor='#dddddd', axisbelow=True)\n",
    "    ax.plot(t, S/1000, 'b', alpha=0.5, lw=2, label='Susceptible')\n",
    "    ax.plot(t, I/1000, 'r', alpha=0.5, lw=2, label='Infected')\n",
    "    ax.plot(t, R/1000, 'g', alpha=0.5, lw=2, label='Recovered with immunity')\n",
    "    ax.set_xlabel('Time /days')\n",
    "    ax.set_ylabel('Number (1000s)')\n",
    "#     ax.set_ylim(0,1.2)\n",
    "    ax.yaxis.set_tick_params(length=0)\n",
    "    ax.xaxis.set_tick_params(length=0)\n",
    "    ax.grid(visible=True, which='major', c='w', lw=2, ls='-')\n",
    "    legend = ax.legend()\n",
    "    legend.get_frame().set_alpha(0.5)\n",
    "    for spine in ('top', 'right', 'bottom', 'left'):\n",
    "        ax.spines[spine].set_visible(False)\n",
    "    plt.show()"
   ]
  },
  {
   "cell_type": "code",
   "execution_count": 5,
   "metadata": {},
   "outputs": [
    {
     "data": {
      "image/png": "[encoded data removed]",
      "text/plain": [
       "<Figure size 432x288 with 1 Axes>"
      ]
     },
     "metadata": {},
     "output_type": "display_data"
    },
    {
     "data": {
      "application/vnd.jupyter.widget-view+json": {
       "model_id": "fd7d9ca93ee940fdbaa31a2dda4fca7d",
       "version_major": 2,
       "version_minor": 0
      },
      "text/plain": [
       "interactive(children=(FloatSlider(value=0.25, description='beta', max=1.0, step=0.01), FloatSlider(value=0.05,…"
      ]
     },
     "execution_count": 5,
     "metadata": {},
     "output_type": "execute_result"
    }
   ],
   "source": [
    "# Interactive beta and gamma\n",
    "# beta: effective contact rate\n",
    "# gamma: mean recovery rate, where 1/γ is \n",
    "#        the mean period of time during which \n",
    "#        an infected individual can pass it on\n",
    "\n",
    "interactive_plot = interactive(plot_fremont_SIR, beta=(0.0, 1.0, 0.01), gamma=(0.0, 1.0, 0.01))\n",
    "output = interactive_plot.children[-1]\n",
    "output.layout.height = '350px'\n",
    "interactive_plot"
   ]
  },
  {
   "cell_type": "markdown",
   "metadata": {},
   "source": [
    "## Building the Traffic SIR Model (Saberi, M. et al.)"
   ]
  },
  {
   "cell_type": "code",
   "execution_count": 8,
   "metadata": {},
   "outputs": [],
   "source": [
    "def congested(v_t, v_max, rho):\n",
    "    \"\"\"\n",
    "    Return whether the link is congested\n",
    "    \n",
    "    Parameters:\n",
    "        v_t: the speed of the link at time t\n",
    "        v_max: the speed limit of the link\n",
    "        rho (float): congestion threshold\n",
    "        \n",
    "    Returns:\n",
    "        congested (int): 1 if congested else 0\n",
    "    \"\"\"\n",
    "    congested = (v_t / v_max) < rho\n",
    "    return congested"
   ]
  },
  {
   "cell_type": "code",
   "execution_count": 9,
   "metadata": {},
   "outputs": [],
   "source": [
    "def propagation_time(l, q_c, v_f, k_j):\n",
    "    \"\"\"\n",
    "    Return the time for congestion to propagate from link i\n",
    "    to the upstream link (i + 1)\n",
    "    \n",
    "    Parameters:\n",
    "        l: the length of the link\n",
    "        q_c: maximum flow of the link\n",
    "        v_f : free fkiw speed\n",
    "        k_j: jam density\n",
    "        \n",
    "    Returns:\n",
    "        eta (float): propagation time\n",
    "    \"\"\"\n",
    "    # critical density\n",
    "    k_c = q_c / v_f\n",
    "    \n",
    "    # shockwave speed\n",
    "    omega = q_c / (k_j - k_c)\n",
    "    \n",
    "    # propagation time\n",
    "    eta = l / omega\n",
    "    \n",
    "    return eta"
   ]
  },
  {
   "cell_type": "code",
   "execution_count": 10,
   "metadata": {},
   "outputs": [],
   "source": [
    "def deriv_congested_links(l, q, v_f, k_j, t):\n",
    "    eta = propagation_time(l, q[t], v_f, k_j)\n",
    "    dCdt = 1 / eta\n",
    "    return dCdt"
   ]
  },
  {
   "cell_type": "code",
   "execution_count": 13,
   "metadata": {},
   "outputs": [],
   "source": [
    "def plot_traffic_SIR(beta=0.2, miu=0.1):\n",
    "    # Number of directed links\n",
    "    N = 1000\n",
    "    # Initial number of congested links\n",
    "    C_0 = 100\n",
    "    # Initial number of recovered links\n",
    "    R_0 = 0\n",
    "    # Initial number of free flow links\n",
    "    F_0 = N - C_0 - R_0\n",
    "    # average effective contacts at upstream,\n",
    "    # derived from homogenous mixing assumption\n",
    "    k = 1 # needs adjacency matrix\n",
    "    \n",
    "    c_0, r_0, f_0 = C_0 / N, R_0 / N, F_0 / N\n",
    "\n",
    "    # A grid of time points (in 360 mins)\n",
    "    t = np.linspace(0, 360, 360)\n",
    "\n",
    "    # The SIR model differential equations\n",
    "    def deriv_traffic(y, t, N, beta, miu):\n",
    "        \"\"\"\n",
    "        Return the ordinary differential equations (ODEs) at time t\n",
    "\n",
    "        Parameters:\n",
    "            y: the initial conditions [F, C, R]\n",
    "            t: time steps\n",
    "            N: total number of links\n",
    "            beta: congestion propagation rate\n",
    "            miu: congestion recovery rate\n",
    "\n",
    "        Returns:\n",
    "            the ODEs at time t\n",
    "        \"\"\"\n",
    "        f, c, r = y\n",
    "\n",
    "        dcdt = - miu * c + beta * k * c * (1 - r - c)\n",
    "        drdt = miu * c\n",
    "        dfdt = - beta * k * c * (1 - r - c)\n",
    "\n",
    "        return dcdt, drdt, dfdt\n",
    "\n",
    "    # Initial conditions vector\n",
    "    y_0 = f_0, c_0, r_0\n",
    "    # Integrate the SIR equations over the time grid, t.\n",
    "    ret = odeint(deriv_traffic, y_0, t, args=(N, beta, miu))\n",
    "    F, C, R = ret.T\n",
    "\n",
    "    # Plot the data on three separate curves for F(t), C(t) and R(t)\n",
    "    fig = plt.figure(facecolor='w')\n",
    "    ax = fig.add_subplot(111, facecolor='#dddddd', axisbelow=True)\n",
    "    ax.plot(t, F/N, 'b', alpha=0.5, lw=2, label='Freeflow')\n",
    "    ax.plot(t, C/N, 'r', alpha=0.5, lw=2, label='Congested')\n",
    "    ax.plot(t, R/N, 'g', alpha=0.5, lw=2, label='Recovered')\n",
    "    ax.set_xlabel('Time /mins')\n",
    "    ax.set_ylabel('Number (1000s)')\n",
    "    ax.set_ylim(0, 1.2)\n",
    "    ax.yaxis.set_tick_params(length=0)\n",
    "    ax.xaxis.set_tick_params(length=0)\n",
    "    ax.grid(visible=True, which='major', c='w', lw=2, ls='-')\n",
    "    legend = ax.legend()\n",
    "    legend.get_frame().set_alpha(0.5)\n",
    "    for spine in ('top', 'right', 'bottom', 'left'):\n",
    "        ax.spines[spine].set_visible(False)\n",
    "    plt.show()"
   ]
  },
  {
   "cell_type": "code",
   "execution_count": 14,
   "metadata": {},
   "outputs": [
    {
     "data": {
      "application/vnd.jupyter.widget-view+json": {
       "model_id": "fc6d863213b849ea9fc7468c00e4b3c6",
       "version_major": 2,
       "version_minor": 0
      },
      "text/plain": [
       "interactive(children=(FloatSlider(value=0.2, description='beta', max=1.0, step=0.01), FloatSlider(value=0.1, d…"
      ]
     },
     "execution_count": 14,
     "metadata": {},
     "output_type": "execute_result"
    }
   ],
   "source": [
    "# Interactive beta and gamma\n",
    "# beta: effective contact rate\n",
    "# gamma: mean recovery rate, where 1/γ is \n",
    "#        the mean period of time during which \n",
    "#        an infected individual can pass it on\n",
    "\n",
    "interactive_plot = interactive(plot_traffic_SIR, beta=(0.0, 1.0, 0.01), miu=(0.0, 1.0, 0.01))\n",
    "output = interactive_plot.children[-1]\n",
    "output.layout.height = '350px'\n",
    "interactive_plot"
   ]
  },
  {
   "cell_type": "code",
   "execution_count": 17,
   "metadata": {},
   "outputs": [],
   "source": [
    "def plot_traffic_SIR(beta=0.2, miu=0.1):\n",
    "    # Number of directed links\n",
    "    N = 1000\n",
    "    # Initial number of congested links\n",
    "    C_0 = 1\n",
    "    # Initial number of recovered links\n",
    "    R_0 = 0\n",
    "    # Initial number of free flow links\n",
    "    F_0 = N - C_0 - R_0\n",
    "    # average effective contacts at upstream,\n",
    "    # derived from homogenous mixing assumption\n",
    "    k = 1 # needs adjacency matrix\n",
    "\n",
    "    # A grid of time points (in 360 mins)\n",
    "    t = np.linspace(0, 360, 360)\n",
    "\n",
    "    # The SIR model differential equations\n",
    "    def deriv_traffic(y, t, N, beta, miu):\n",
    "        \"\"\"\n",
    "        Return the ordinary differential equations (ODEs) at time t\n",
    "\n",
    "        Parameters:\n",
    "            y: the initial conditions [F, C, R]\n",
    "            t: time steps\n",
    "            N: total number of links\n",
    "            beta: congestion propagation rate\n",
    "            miu: congestion recovery rate\n",
    "\n",
    "        Returns:\n",
    "            the ODEs at time t\n",
    "        \"\"\"\n",
    "        F, C, R = y\n",
    "        frac_F, frac_C, frac_R = F / N, C / N, R / N\n",
    "\n",
    "        dFdt = - beta * k * C * (1 - frac_R - frac_C)\n",
    "        dCdt = - miu * C + beta * k * C * (1 - frac_R - frac_C)\n",
    "        dRdt = miu * C\n",
    "        \n",
    "        return dCdt, dRdt, dFdt\n",
    "\n",
    "    # Initial conditions vector\n",
    "    y_0 = F_0, C_0, R_0\n",
    "    # Integrate the SIR equations over the time grid, t.\n",
    "    ret = odeint(deriv_traffic, y_0, t, args=(N, beta, miu))\n",
    "    F, C, R = ret.T\n",
    "\n",
    "    # Plot the data on three separate curves for S(t), I(t) and R(t)\n",
    "    fig = plt.figure(facecolor='w')\n",
    "    ax = fig.add_subplot(111, facecolor='#dddddd', axisbelow=True)\n",
    "    ax.plot(t, F/N, 'b', alpha=0.5, lw=2, label='Freeflow')\n",
    "    ax.plot(t, C/N, 'r', alpha=0.5, lw=2, label='Congested')\n",
    "    ax.plot(t, R/N, 'g', alpha=0.5, lw=2, label='Recovered')\n",
    "    ax.set_xlabel('Time /mins')\n",
    "    ax.set_ylabel('Number (1000s)')\n",
    "    ax.set_ylim(0, 1.2)\n",
    "    ax.yaxis.set_tick_params(length=0)\n",
    "    ax.xaxis.set_tick_params(length=0)\n",
    "    ax.grid(visible=True, which='major', c='w', lw=2, ls='-')\n",
    "    legend = ax.legend()\n",
    "    legend.get_frame().set_alpha(0.5)\n",
    "    for spine in ('top', 'right', 'bottom', 'left'):\n",
    "        ax.spines[spine].set_visible(False)\n",
    "    plt.show()"
   ]
  },
  {
   "cell_type": "code",
   "execution_count": 18,
   "metadata": {},
   "outputs": [
    {
     "data": {
      "application/vnd.jupyter.widget-view+json": {
       "model_id": "7371313ed8b74feab4f2107017008a7e",
       "version_major": 2,
       "version_minor": 0
      },
      "text/plain": [
       "interactive(children=(FloatSlider(value=0.2, description='beta', max=1.0, step=0.01), FloatSlider(value=0.1, d…"
      ]
     },
     "execution_count": 18,
     "metadata": {},
     "output_type": "execute_result"
    }
   ],
   "source": [
    "# Interactive beta and gamma\n",
    "# beta: effective contact rate\n",
    "# gamma: mean recovery rate, where 1/γ is \n",
    "#        the mean period of time during which \n",
    "#        an infected individual can pass it on\n",
    "\n",
    "interactive_plot = interactive(plot_traffic_SIR, beta=(0.0, 1.0, 0.01), miu=(0.0, 1.0, 0.01))\n",
    "output = interactive_plot.children[-1]\n",
    "output.layout.height = '350px'\n",
    "interactive_plot"
   ]
  },
  {
   "cell_type": "markdown",
   "metadata": {},
   "source": [
    "## Extract data from the provided simulation (10/18)"
   ]
  },
  {
   "cell_type": "code",
   "execution_count": 14,
   "metadata": {},
   "outputs": [],
   "source": [
    "import sqlite3\n",
    "import copy\n",
    "import pandas as pd\n",
    "import matplotlib.pyplot as plt\n",
    "import numpy as np\n",
    "import geopandas as gpd\n",
    "import contextily as cx"
   ]
  },
  {
   "cell_type": "code",
   "execution_count": 18,
   "metadata": {},
   "outputs": [],
   "source": [
    "# GLOBAL VARIABLES/CONSTANTS\n",
    "\n",
    "# SQLite File Path formatter\n",
    "__SQLITE_PATH_FORMAT = \"Data/carl_10_18_18_saberi/Dynamel_06_09_2018_rpl_{number}.sqlite\"\n",
    "\n",
    "# sections.shp File Path\n",
    "# __SECTION_SHP = \"Data/sections.shp\"\n",
    "\n",
    "# Number of experiments\n",
    "__NUM_EXP = 3\n",
    "\n",
    "# SQL Query to be excecuted for MISECT table\n",
    "__SQL_EXTRACT_QUERY = 'SELECT * FROM MESECT'\n",
    "\n",
    "# Columns to extract from MISECT table\n",
    "__COLUMNS = ['ent', 'eid', 'flow', 'count', 'flow_capacity', 'speed', 'travel', 'traveltime']"
   ]
  },
  {
   "cell_type": "code",
   "execution_count": 19,
   "metadata": {},
   "outputs": [],
   "source": [
    "# Create a SQL connection to our SQLite database\n",
    "\n",
    "# A list of established connections to our databases\n",
    "con = []\n",
    "\n",
    "for i in range(__NUM_EXP):\n",
    "    con.append(sqlite3.connect(__SQLITE_PATH_FORMAT.format(number=i+1)))"
   ]
  },
  {
   "cell_type": "code",
   "execution_count": null,
   "metadata": {},
   "outputs": [],
   "source": [
    "# Run SQL query and convert SQL to DataFrame\n",
    "\n",
    "# List of the sql queries\n",
    "sql_queries = []\n",
    "\n",
    "# List of dataframes extracted from each experiment\n",
    "df = []\n",
    "for i in range(__NUM_EXP):\n",
    "    # Run SQL\n",
    "    query = pd.read_sql(__SQL_EXTRACT_QUERY, con[i])\n",
    "    sql_queries.append(query)\n",
    "    \n",
    "    # Convert SQL to DataFrame\n",
    "    dataframe = pd.DataFrame(query, columns = __COLUMNS)\n",
    "    df.append(dataframe)"
   ]
  },
  {
   "cell_type": "code",
   "execution_count": null,
   "metadata": {},
   "outputs": [],
   "source": [
    "# Create a deep copy of df as back up in order not to rerun the above cell\n",
    "df_saberi_copy = copy.deepcopy(df)"
   ]
  },
  {
   "cell_type": "code",
   "execution_count": null,
   "metadata": {},
   "outputs": [],
   "source": []
  },
  {
   "cell_type": "markdown",
   "metadata": {},
   "source": [
    "# Simple SIR Model (Froese)"
   ]
  },
  {
   "cell_type": "code",
   "execution_count": 53,
   "metadata": {},
   "outputs": [
    {
     "name": "stdout",
     "output_type": "stream",
     "text": [
      "Requirement already satisfied: mpld3 in /opt/anaconda3/lib/python3.9/site-packages (0.5.9)\n",
      "Requirement already satisfied: jinja2 in /opt/anaconda3/lib/python3.9/site-packages (from mpld3) (2.11.3)\n",
      "Requirement already satisfied: matplotlib in /opt/anaconda3/lib/python3.9/site-packages (from mpld3) (3.4.3)\n",
      "Requirement already satisfied: MarkupSafe>=0.23 in /opt/anaconda3/lib/python3.9/site-packages (from jinja2->mpld3) (1.1.1)\n",
      "Requirement already satisfied: numpy>=1.16 in /opt/anaconda3/lib/python3.9/site-packages (from matplotlib->mpld3) (1.20.3)\n",
      "Requirement already satisfied: kiwisolver>=1.0.1 in /opt/anaconda3/lib/python3.9/site-packages (from matplotlib->mpld3) (1.3.1)\n",
      "Requirement already satisfied: cycler>=0.10 in /opt/anaconda3/lib/python3.9/site-packages (from matplotlib->mpld3) (0.10.0)\n",
      "Requirement already satisfied: python-dateutil>=2.7 in /opt/anaconda3/lib/python3.9/site-packages (from matplotlib->mpld3) (2.8.2)\n",
      "Requirement already satisfied: pillow>=6.2.0 in /opt/anaconda3/lib/python3.9/site-packages (from matplotlib->mpld3) (8.4.0)\n",
      "Requirement already satisfied: pyparsing>=2.2.1 in /opt/anaconda3/lib/python3.9/site-packages (from matplotlib->mpld3) (3.0.4)\n",
      "Requirement already satisfied: six in /opt/anaconda3/lib/python3.9/site-packages (from cycler>=0.10->matplotlib->mpld3) (1.16.0)\n"
     ]
    }
   ],
   "source": [
    "from scipy.integrate import odeint\n",
    "import numpy as np\n",
    "import matplotlib.pyplot as plt\n",
    "%matplotlib inline \n",
    "!pip install mpld3\n",
    "import mpld3\n",
    "mpld3.enable_notebook()"
   ]
  },
  {
   "cell_type": "code",
   "execution_count": 117,
   "metadata": {},
   "outputs": [],
   "source": [
    "def rmse(pred, y):\n",
    "    return np.sqrt(np.mean((pred - y) ** 2))"
   ]
  },
  {
   "cell_type": "code",
   "execution_count": 55,
   "metadata": {},
   "outputs": [],
   "source": [
    "def deriv(y, t, N, beta, gamma):\n",
    "    S, I, R = y\n",
    "    dSdt = -beta * S * I / N\n",
    "    dIdt = beta * S * I / N - gamma * I\n",
    "    dRdt = gamma * I\n",
    "    return dSdt, dIdt, dRdt"
   ]
  },
  {
   "cell_type": "code",
   "execution_count": 56,
   "metadata": {},
   "outputs": [],
   "source": [
    "N = 1000\n",
    "beta = 1.0  # infected person infects 1 other person per day\n",
    "D = 4.0 # infections lasts four days\n",
    "gamma = 1.0 / D\n",
    "\n",
    "S0, I0, R0 = 999, 1, 0  # initial conditions: one infected, rest susceptible"
   ]
  },
  {
   "cell_type": "code",
   "execution_count": 57,
   "metadata": {},
   "outputs": [],
   "source": [
    "t = np.linspace(0, 49, 50) # Grid of time points (in days)\n",
    "y0 = S0, I0, R0 # Initial conditions vector\n",
    "\n",
    "# Integrate the SIR equations over the time grid, t.\n",
    "ret = odeint(deriv, y0, t, args=(N, beta, gamma))\n",
    "S, I, R = ret.T"
   ]
  },
  {
   "cell_type": "code",
   "execution_count": 58,
   "metadata": {},
   "outputs": [],
   "source": [
    "def plotsir(t, S, I, R):\n",
    "    f, ax = plt.subplots(1,1,figsize=(10,4))\n",
    "    ax.plot(t, S, 'b', alpha=0.7, linewidth=2, label='Susceptible')\n",
    "    ax.plot(t, I, 'y', alpha=0.7, linewidth=2, label='Infected')\n",
    "    ax.plot(t, R, 'g', alpha=0.7, linewidth=2, label='Recovered')\n",
    "\n",
    "    ax.set_xlabel('Time (days)')\n",
    "\n",
    "    ax.yaxis.set_tick_params(length=0)\n",
    "    ax.xaxis.set_tick_params(length=0)\n",
    "    ax.grid(b=True, which='major', c='w', lw=2, ls='-')\n",
    "    legend = ax.legend()\n",
    "    legend.get_frame().set_alpha(0.5)\n",
    "    for spine in ('top', 'right', 'bottom', 'left'):\n",
    "        ax.spines[spine].set_visible(False)\n",
    "    plt.show()"
   ]
  },
  {
   "cell_type": "code",
   "execution_count": 59,
   "metadata": {},
   "outputs": [
    {
     "data": {
      "image/png": "[encoded data removed]",
      "text/html": [
       "\n",
       "\n",
       "<style>\n",
       "\n",
       "</style>\n",
       "\n",
       "<div id=\"fig_el513388445116528507562589\"></div>\n",
       "<script>\n",
       "function mpld3_load_lib(url, callback){\n",
       "  var s = document.createElement('script');\n",
       "  s.src = url;\n",
       "  s.async = true;\n",
       "  s.onreadystatechange = s.onload = callback;\n",
       "  s.onerror = function(){console.warn(\"failed to load library \" + url);};\n",
       "  document.getElementsByTagName(\"head\")[0].appendChild(s);\n",
       "}\n",
       "\n",
       "if(typeof(mpld3) !== \"undefined\" && mpld3._mpld3IsLoaded){\n",
       "   // already loaded: just create the figure\n",
       "   !function(mpld3){\n",
       "       \n",
       "       mpld3.draw_figure(\"fig_el513388445116528507562589\", {\"width\": 720.0, \"height\": 288.0, \"axes\": [{\"bbox\": [0.125, 0.125, 0.775, 0.755], \"xlim\": [-2.45, 51.45], \"ylim\": [-49.95, 1048.95], \"xdomain\": [-2.45, 51.45], \"ydomain\": [-49.95, 1048.95], \"xscale\": \"linear\", \"yscale\": \"linear\", \"axes\": [{\"position\": \"bottom\", \"nticks\": 8, \"tickvalues\": null, \"tickformat_formatter\": \"\", \"tickformat\": null, \"scale\": \"linear\", \"fontsize\": 10.0, \"grid\": {\"gridOn\": true, \"color\": \"#FFFFFF\", \"dasharray\": \"none\", \"alpha\": 1.0}, \"visible\": true}, {\"position\": \"left\", \"nticks\": 8, \"tickvalues\": null, \"tickformat_formatter\": \"\", \"tickformat\": null, \"scale\": \"linear\", \"fontsize\": 10.0, \"grid\": {\"gridOn\": true, \"color\": \"#FFFFFF\", \"dasharray\": \"none\", \"alpha\": 1.0}, \"visible\": true}], \"axesbg\": \"#FFFFFF\", \"axesbgalpha\": null, \"zoomable\": true, \"id\": \"el513386811393840\", \"lines\": [{\"data\": \"data01\", \"xindex\": 0, \"yindex\": 1, \"coordinates\": \"data\", \"id\": \"el513386811048960\", \"color\": \"#0000FF\", \"linewidth\": 2.0, \"dasharray\": \"none\", \"alpha\": 0.7, \"zorder\": 2, \"drawstyle\": \"default\"}, {\"data\": \"data01\", \"xindex\": 0, \"yindex\": 2, \"coordinates\": \"data\", \"id\": \"el513386811048336\", \"color\": \"#BFBF00\", \"linewidth\": 2.0, \"dasharray\": \"none\", \"alpha\": 0.7, \"zorder\": 2, \"drawstyle\": \"default\"}, {\"data\": \"data01\", \"xindex\": 0, \"yindex\": 3, \"coordinates\": \"data\", \"id\": \"el513386811047424\", \"color\": \"#007F00\", \"linewidth\": 2.0, \"dasharray\": \"none\", \"alpha\": 0.7, \"zorder\": 2, \"drawstyle\": \"default\"}, {\"data\": \"data02\", \"xindex\": 0, \"yindex\": 1, \"coordinates\": \"axes\", \"id\": \"el513386811045024\", \"color\": \"#0000FF\", \"linewidth\": 2.0, \"dasharray\": \"none\", \"alpha\": 0.7, \"zorder\": 1000002.0, \"drawstyle\": \"default\"}, {\"data\": \"data02\", \"xindex\": 0, \"yindex\": 2, \"coordinates\": \"axes\", \"id\": \"el513386928385024\", \"color\": \"#BFBF00\", \"linewidth\": 2.0, \"dasharray\": \"none\", \"alpha\": 0.7, \"zorder\": 1000002.0, \"drawstyle\": \"default\"}, {\"data\": \"data02\", \"xindex\": 0, \"yindex\": 3, \"coordinates\": \"axes\", \"id\": \"el513386928386704\", \"color\": \"#007F00\", \"linewidth\": 2.0, \"dasharray\": \"none\", \"alpha\": 0.7, \"zorder\": 1000002.0, \"drawstyle\": \"default\"}], \"paths\": [{\"data\": \"data03\", \"xindex\": 0, \"yindex\": 1, \"coordinates\": \"axes\", \"pathcodes\": [\"M\", \"L\", \"S\", \"L\", \"S\", \"L\", \"S\", \"L\", \"S\", \"Z\"], \"id\": \"el513386811043728\", \"dasharray\": \"none\", \"alpha\": 0.5, \"facecolor\": \"rgba(255, 255, 255, 0.5)\", \"edgecolor\": \"rgba(204, 204, 204, 0.5)\", \"edgewidth\": 1.0, \"zorder\": 1000000.0}], \"markers\": [], \"texts\": [{\"text\": \"Time (days)\", \"position\": [0.5, -0.08048197203826342], \"coordinates\": \"axes\", \"h_anchor\": \"middle\", \"v_baseline\": \"hanging\", \"rotation\": -0.0, \"fontsize\": 10.0, \"color\": \"#000000\", \"alpha\": 1, \"zorder\": 3, \"id\": \"el513386811388944\"}, {\"text\": \"Susceptible\", \"position\": [0.8803763440860216, 0.5551876379690949], \"coordinates\": \"axes\", \"h_anchor\": \"start\", \"v_baseline\": \"auto\", \"rotation\": -0.0, \"fontsize\": 10.0, \"color\": \"#000000\", \"alpha\": 1, \"zorder\": 1000003.0, \"id\": \"el513386811043536\"}, {\"text\": \"Infected\", \"position\": [0.8803763440860216, 0.48620309050772625], \"coordinates\": \"axes\", \"h_anchor\": \"start\", \"v_baseline\": \"auto\", \"rotation\": -0.0, \"fontsize\": 10.0, \"color\": \"#000000\", \"alpha\": 1, \"zorder\": 1000003.0, \"id\": \"el513386928384208\"}, {\"text\": \"Recovered\", \"position\": [0.8803763440860216, 0.41721854304635764], \"coordinates\": \"axes\", \"h_anchor\": \"start\", \"v_baseline\": \"auto\", \"rotation\": -0.0, \"fontsize\": 10.0, \"color\": \"#000000\", \"alpha\": 1, \"zorder\": 1000003.0, \"id\": \"el513386928385888\"}], \"collections\": [], \"images\": [], \"sharex\": [], \"sharey\": []}], \"data\": {\"data01\": [[0.0, 999.0, 1.0, 0.0], [1.0, 997.5144588188176, 2.1135074461329757, 0.37203373504933485], [2.0, 994.3854713442688, 4.457066388547796, 1.1574622671834502], [3.0, 987.8342089787894, 9.35581608486171, 2.8099749363489086], [4.0, 974.2876528386269, 19.450300309698555, 6.262046851674833], [5.0, 946.9837883494648, 39.64801039070232, 13.368201259833056], [6.0, 894.6729081392044, 77.75294384076622, 27.574148020029593], [7.0, 803.4732149867843, 142.0740543065743, 54.452730706641596], [8.0, 667.5539961490002, 231.66237844108485, 100.78362540991506], [9.0, 504.90334253851944, 324.49971253872087, 170.59694492275977], [10.0, 352.4617778744318, 387.0850739825798, 260.45314814298837], [11.0, 236.50423108567406, 403.2985961586994, 360.19717275562664], [12.0, 159.33720751924727, 381.72978718305103, 458.9330052977018], [13.0, 110.9728910342336, 339.6599061521859, 549.3672028135805], [14.0, 80.95450538998317, 290.82863721061483, 628.2168573994019], [15.0, 62.00475674591004, 243.10932092392414, 694.8859223301657], [16.0, 49.70297091465336, 200.12450796710834, 750.1725211182383], [17.0, 41.46991261969635, 163.08343038812544, 795.4466569921781], [18.0, 35.79863505554628, 131.99010487784494, 832.2112600666086], [19.0, 31.790894648921377, 106.31538095246117, 861.8937243986175], [20.0, 28.896240396624247, 85.34292861280673, 885.760830990569], [21.0, 26.767071461465218, 68.3373388213136, 904.8955897172212], [22.0, 25.17727665393383, 54.61948706052278, 920.2032362855434], [23.0, 23.975602308158514, 43.594880331267674, 932.4295173605738], [24.0, 23.058247085403227, 34.75892489756005, 942.1828280170367], [25.0, 22.352321826593176, 27.691526698951584, 949.9561514744553], [26.0, 21.805598124911587, 22.047383450886706, 956.1470184242019], [27.0, 21.379988901273176, 17.545156566287783, 961.0748545324393], [28.0, 21.047298177752236, 13.957050685672968, 964.995651136575], [29.0, 20.78638444141312, 11.09945936766834, 968.1141561909187], [30.0, 20.58122520815219, 8.82488985145072, 970.5938849403973], [31.0, 20.41956914980098, 7.015158613440693, 972.5652722367585], [32.0, 20.29197960906855, 5.575748634424058, 974.1322717565075], [33.0, 20.191144221424835, 4.431181195510681, 975.3776745830646], [34.0, 20.111368958255966, 3.5212494671542993, 976.3673815745899], [35.0, 20.04820239936146, 2.7979708358085578, 977.1538267648301], [36.0, 19.99815340795795, 2.223131237260124, 977.7787153547821], [37.0, 19.95847689661128, 1.7663128248041398, 978.2752102785848], [38.0, 19.927009965055962, 1.4033137019062565, 978.669676333038], [39.0, 19.90204559556921, 1.1148840674181029, 978.9830703370129], [40.0, 19.882234785712658, 0.8857169853314942, 979.232048228956], [41.0, 19.866510331625093, 0.7036432995098283, 979.4298463688654], [42.0, 19.85402724941775, 0.5589900016607279, 979.5869827489219], [43.0, 19.8441160555256, 0.44406923176583163, 979.7118147127088], [44.0, 19.8362460302407, 0.35277149292108856, 979.8109824768385], [45.0, 19.82999627731806, 0.28024200312212094, 979.88976171956], [46.0, 19.82503288517036, 0.222623266947235, 979.9523438478827], [47.0, 19.821090877967027, 0.17685036025572798, 980.0020587617776], [48.0, 19.817959939268263, 0.14048818970424967, 980.0415518710279], [49.0, 19.815473108310858, 0.11160212676093444, 980.0729247649285]], \"data02\": [[0.8301971326164875, 0.5712840323767475, 0.5022994849153789, 0.43331493745401034], [0.8660394265232976, 0.5712840323767475, 0.5022994849153789, 0.43331493745401034]], \"data03\": [[0.8266129032258065, 0.38962472406181015], [0.9874551971326165, 0.38962472406181015], [0.9910394265232975, 0.38962472406181015], [0.9910394265232975, 0.398822663723326], [0.9910394265232975, 0.601177336276674], [0.9910394265232975, 0.6103752759381899], [0.9874551971326165, 0.6103752759381899], [0.8266129032258065, 0.6103752759381899], [0.8230286738351255, 0.6103752759381899], [0.8230286738351255, 0.601177336276674], [0.8230286738351255, 0.398822663723326], [0.8230286738351255, 0.38962472406181015], [0.8266129032258065, 0.38962472406181015]]}, \"id\": \"el513388445116528\", \"plugins\": [{\"type\": \"reset\"}, {\"type\": \"zoom\", \"button\": true, \"enabled\": false}, {\"type\": \"boxzoom\", \"button\": true, \"enabled\": false}]});\n",
       "   }(mpld3);\n",
       "}else if(typeof define === \"function\" && define.amd){\n",
       "   // require.js is available: use it to load d3/mpld3\n",
       "   require.config({paths: {d3: \"https://d3js.org/d3.v5\"}});\n",
       "   require([\"d3\"], function(d3){\n",
       "      window.d3 = d3;\n",
       "      mpld3_load_lib(\"https://mpld3.github.io/js/mpld3.v0.5.9.js\", function(){\n",
       "         \n",
       "         mpld3.draw_figure(\"fig_el513388445116528507562589\", {\"width\": 720.0, \"height\": 288.0, \"axes\": [{\"bbox\": [0.125, 0.125, 0.775, 0.755], \"xlim\": [-2.45, 51.45], \"ylim\": [-49.95, 1048.95], \"xdomain\": [-2.45, 51.45], \"ydomain\": [-49.95, 1048.95], \"xscale\": \"linear\", \"yscale\": \"linear\", \"axes\": [{\"position\": \"bottom\", \"nticks\": 8, \"tickvalues\": null, \"tickformat_formatter\": \"\", \"tickformat\": null, \"scale\": \"linear\", \"fontsize\": 10.0, \"grid\": {\"gridOn\": true, \"color\": \"#FFFFFF\", \"dasharray\": \"none\", \"alpha\": 1.0}, \"visible\": true}, {\"position\": \"left\", \"nticks\": 8, \"tickvalues\": null, \"tickformat_formatter\": \"\", \"tickformat\": null, \"scale\": \"linear\", \"fontsize\": 10.0, \"grid\": {\"gridOn\": true, \"color\": \"#FFFFFF\", \"dasharray\": \"none\", \"alpha\": 1.0}, \"visible\": true}], \"axesbg\": \"#FFFFFF\", \"axesbgalpha\": null, \"zoomable\": true, \"id\": \"el513386811393840\", \"lines\": [{\"data\": \"data01\", \"xindex\": 0, \"yindex\": 1, \"coordinates\": \"data\", \"id\": \"el513386811048960\", \"color\": \"#0000FF\", \"linewidth\": 2.0, \"dasharray\": \"none\", \"alpha\": 0.7, \"zorder\": 2, \"drawstyle\": \"default\"}, {\"data\": \"data01\", \"xindex\": 0, \"yindex\": 2, \"coordinates\": \"data\", \"id\": \"el513386811048336\", \"color\": \"#BFBF00\", \"linewidth\": 2.0, \"dasharray\": \"none\", \"alpha\": 0.7, \"zorder\": 2, \"drawstyle\": \"default\"}, {\"data\": \"data01\", \"xindex\": 0, \"yindex\": 3, \"coordinates\": \"data\", \"id\": \"el513386811047424\", \"color\": \"#007F00\", \"linewidth\": 2.0, \"dasharray\": \"none\", \"alpha\": 0.7, \"zorder\": 2, \"drawstyle\": \"default\"}, {\"data\": \"data02\", \"xindex\": 0, \"yindex\": 1, \"coordinates\": \"axes\", \"id\": \"el513386811045024\", \"color\": \"#0000FF\", \"linewidth\": 2.0, \"dasharray\": \"none\", \"alpha\": 0.7, \"zorder\": 1000002.0, \"drawstyle\": \"default\"}, {\"data\": \"data02\", \"xindex\": 0, \"yindex\": 2, \"coordinates\": \"axes\", \"id\": \"el513386928385024\", \"color\": \"#BFBF00\", \"linewidth\": 2.0, \"dasharray\": \"none\", \"alpha\": 0.7, \"zorder\": 1000002.0, \"drawstyle\": \"default\"}, {\"data\": \"data02\", \"xindex\": 0, \"yindex\": 3, \"coordinates\": \"axes\", \"id\": \"el513386928386704\", \"color\": \"#007F00\", \"linewidth\": 2.0, \"dasharray\": \"none\", \"alpha\": 0.7, \"zorder\": 1000002.0, \"drawstyle\": \"default\"}], \"paths\": [{\"data\": \"data03\", \"xindex\": 0, \"yindex\": 1, \"coordinates\": \"axes\", \"pathcodes\": [\"M\", \"L\", \"S\", \"L\", \"S\", \"L\", \"S\", \"L\", \"S\", \"Z\"], \"id\": \"el513386811043728\", \"dasharray\": \"none\", \"alpha\": 0.5, \"facecolor\": \"rgba(255, 255, 255, 0.5)\", \"edgecolor\": \"rgba(204, 204, 204, 0.5)\", \"edgewidth\": 1.0, \"zorder\": 1000000.0}], \"markers\": [], \"texts\": [{\"text\": \"Time (days)\", \"position\": [0.5, -0.08048197203826342], \"coordinates\": \"axes\", \"h_anchor\": \"middle\", \"v_baseline\": \"hanging\", \"rotation\": -0.0, \"fontsize\": 10.0, \"color\": \"#000000\", \"alpha\": 1, \"zorder\": 3, \"id\": \"el513386811388944\"}, {\"text\": \"Susceptible\", \"position\": [0.8803763440860216, 0.5551876379690949], \"coordinates\": \"axes\", \"h_anchor\": \"start\", \"v_baseline\": \"auto\", \"rotation\": -0.0, \"fontsize\": 10.0, \"color\": \"#000000\", \"alpha\": 1, \"zorder\": 1000003.0, \"id\": \"el513386811043536\"}, {\"text\": \"Infected\", \"position\": [0.8803763440860216, 0.48620309050772625], \"coordinates\": \"axes\", \"h_anchor\": \"start\", \"v_baseline\": \"auto\", \"rotation\": -0.0, \"fontsize\": 10.0, \"color\": \"#000000\", \"alpha\": 1, \"zorder\": 1000003.0, \"id\": \"el513386928384208\"}, {\"text\": \"Recovered\", \"position\": [0.8803763440860216, 0.41721854304635764], \"coordinates\": \"axes\", \"h_anchor\": \"start\", \"v_baseline\": \"auto\", \"rotation\": -0.0, \"fontsize\": 10.0, \"color\": \"#000000\", \"alpha\": 1, \"zorder\": 1000003.0, \"id\": \"el513386928385888\"}], \"collections\": [], \"images\": [], \"sharex\": [], \"sharey\": []}], \"data\": {\"data01\": [[0.0, 999.0, 1.0, 0.0], [1.0, 997.5144588188176, 2.1135074461329757, 0.37203373504933485], [2.0, 994.3854713442688, 4.457066388547796, 1.1574622671834502], [3.0, 987.8342089787894, 9.35581608486171, 2.8099749363489086], [4.0, 974.2876528386269, 19.450300309698555, 6.262046851674833], [5.0, 946.9837883494648, 39.64801039070232, 13.368201259833056], [6.0, 894.6729081392044, 77.75294384076622, 27.574148020029593], [7.0, 803.4732149867843, 142.0740543065743, 54.452730706641596], [8.0, 667.5539961490002, 231.66237844108485, 100.78362540991506], [9.0, 504.90334253851944, 324.49971253872087, 170.59694492275977], [10.0, 352.4617778744318, 387.0850739825798, 260.45314814298837], [11.0, 236.50423108567406, 403.2985961586994, 360.19717275562664], [12.0, 159.33720751924727, 381.72978718305103, 458.9330052977018], [13.0, 110.9728910342336, 339.6599061521859, 549.3672028135805], [14.0, 80.95450538998317, 290.82863721061483, 628.2168573994019], [15.0, 62.00475674591004, 243.10932092392414, 694.8859223301657], [16.0, 49.70297091465336, 200.12450796710834, 750.1725211182383], [17.0, 41.46991261969635, 163.08343038812544, 795.4466569921781], [18.0, 35.79863505554628, 131.99010487784494, 832.2112600666086], [19.0, 31.790894648921377, 106.31538095246117, 861.8937243986175], [20.0, 28.896240396624247, 85.34292861280673, 885.760830990569], [21.0, 26.767071461465218, 68.3373388213136, 904.8955897172212], [22.0, 25.17727665393383, 54.61948706052278, 920.2032362855434], [23.0, 23.975602308158514, 43.594880331267674, 932.4295173605738], [24.0, 23.058247085403227, 34.75892489756005, 942.1828280170367], [25.0, 22.352321826593176, 27.691526698951584, 949.9561514744553], [26.0, 21.805598124911587, 22.047383450886706, 956.1470184242019], [27.0, 21.379988901273176, 17.545156566287783, 961.0748545324393], [28.0, 21.047298177752236, 13.957050685672968, 964.995651136575], [29.0, 20.78638444141312, 11.09945936766834, 968.1141561909187], [30.0, 20.58122520815219, 8.82488985145072, 970.5938849403973], [31.0, 20.41956914980098, 7.015158613440693, 972.5652722367585], [32.0, 20.29197960906855, 5.575748634424058, 974.1322717565075], [33.0, 20.191144221424835, 4.431181195510681, 975.3776745830646], [34.0, 20.111368958255966, 3.5212494671542993, 976.3673815745899], [35.0, 20.04820239936146, 2.7979708358085578, 977.1538267648301], [36.0, 19.99815340795795, 2.223131237260124, 977.7787153547821], [37.0, 19.95847689661128, 1.7663128248041398, 978.2752102785848], [38.0, 19.927009965055962, 1.4033137019062565, 978.669676333038], [39.0, 19.90204559556921, 1.1148840674181029, 978.9830703370129], [40.0, 19.882234785712658, 0.8857169853314942, 979.232048228956], [41.0, 19.866510331625093, 0.7036432995098283, 979.4298463688654], [42.0, 19.85402724941775, 0.5589900016607279, 979.5869827489219], [43.0, 19.8441160555256, 0.44406923176583163, 979.7118147127088], [44.0, 19.8362460302407, 0.35277149292108856, 979.8109824768385], [45.0, 19.82999627731806, 0.28024200312212094, 979.88976171956], [46.0, 19.82503288517036, 0.222623266947235, 979.9523438478827], [47.0, 19.821090877967027, 0.17685036025572798, 980.0020587617776], [48.0, 19.817959939268263, 0.14048818970424967, 980.0415518710279], [49.0, 19.815473108310858, 0.11160212676093444, 980.0729247649285]], \"data02\": [[0.8301971326164875, 0.5712840323767475, 0.5022994849153789, 0.43331493745401034], [0.8660394265232976, 0.5712840323767475, 0.5022994849153789, 0.43331493745401034]], \"data03\": [[0.8266129032258065, 0.38962472406181015], [0.9874551971326165, 0.38962472406181015], [0.9910394265232975, 0.38962472406181015], [0.9910394265232975, 0.398822663723326], [0.9910394265232975, 0.601177336276674], [0.9910394265232975, 0.6103752759381899], [0.9874551971326165, 0.6103752759381899], [0.8266129032258065, 0.6103752759381899], [0.8230286738351255, 0.6103752759381899], [0.8230286738351255, 0.601177336276674], [0.8230286738351255, 0.398822663723326], [0.8230286738351255, 0.38962472406181015], [0.8266129032258065, 0.38962472406181015]]}, \"id\": \"el513388445116528\", \"plugins\": [{\"type\": \"reset\"}, {\"type\": \"zoom\", \"button\": true, \"enabled\": false}, {\"type\": \"boxzoom\", \"button\": true, \"enabled\": false}]});\n",
       "      });\n",
       "    });\n",
       "}else{\n",
       "    // require.js not available: dynamically load d3 & mpld3\n",
       "    mpld3_load_lib(\"https://d3js.org/d3.v5.js\", function(){\n",
       "         mpld3_load_lib(\"https://mpld3.github.io/js/mpld3.v0.5.9.js\", function(){\n",
       "                 \n",
       "                 mpld3.draw_figure(\"fig_el513388445116528507562589\", {\"width\": 720.0, \"height\": 288.0, \"axes\": [{\"bbox\": [0.125, 0.125, 0.775, 0.755], \"xlim\": [-2.45, 51.45], \"ylim\": [-49.95, 1048.95], \"xdomain\": [-2.45, 51.45], \"ydomain\": [-49.95, 1048.95], \"xscale\": \"linear\", \"yscale\": \"linear\", \"axes\": [{\"position\": \"bottom\", \"nticks\": 8, \"tickvalues\": null, \"tickformat_formatter\": \"\", \"tickformat\": null, \"scale\": \"linear\", \"fontsize\": 10.0, \"grid\": {\"gridOn\": true, \"color\": \"#FFFFFF\", \"dasharray\": \"none\", \"alpha\": 1.0}, \"visible\": true}, {\"position\": \"left\", \"nticks\": 8, \"tickvalues\": null, \"tickformat_formatter\": \"\", \"tickformat\": null, \"scale\": \"linear\", \"fontsize\": 10.0, \"grid\": {\"gridOn\": true, \"color\": \"#FFFFFF\", \"dasharray\": \"none\", \"alpha\": 1.0}, \"visible\": true}], \"axesbg\": \"#FFFFFF\", \"axesbgalpha\": null, \"zoomable\": true, \"id\": \"el513386811393840\", \"lines\": [{\"data\": \"data01\", \"xindex\": 0, \"yindex\": 1, \"coordinates\": \"data\", \"id\": \"el513386811048960\", \"color\": \"#0000FF\", \"linewidth\": 2.0, \"dasharray\": \"none\", \"alpha\": 0.7, \"zorder\": 2, \"drawstyle\": \"default\"}, {\"data\": \"data01\", \"xindex\": 0, \"yindex\": 2, \"coordinates\": \"data\", \"id\": \"el513386811048336\", \"color\": \"#BFBF00\", \"linewidth\": 2.0, \"dasharray\": \"none\", \"alpha\": 0.7, \"zorder\": 2, \"drawstyle\": \"default\"}, {\"data\": \"data01\", \"xindex\": 0, \"yindex\": 3, \"coordinates\": \"data\", \"id\": \"el513386811047424\", \"color\": \"#007F00\", \"linewidth\": 2.0, \"dasharray\": \"none\", \"alpha\": 0.7, \"zorder\": 2, \"drawstyle\": \"default\"}, {\"data\": \"data02\", \"xindex\": 0, \"yindex\": 1, \"coordinates\": \"axes\", \"id\": \"el513386811045024\", \"color\": \"#0000FF\", \"linewidth\": 2.0, \"dasharray\": \"none\", \"alpha\": 0.7, \"zorder\": 1000002.0, \"drawstyle\": \"default\"}, {\"data\": \"data02\", \"xindex\": 0, \"yindex\": 2, \"coordinates\": \"axes\", \"id\": \"el513386928385024\", \"color\": \"#BFBF00\", \"linewidth\": 2.0, \"dasharray\": \"none\", \"alpha\": 0.7, \"zorder\": 1000002.0, \"drawstyle\": \"default\"}, {\"data\": \"data02\", \"xindex\": 0, \"yindex\": 3, \"coordinates\": \"axes\", \"id\": \"el513386928386704\", \"color\": \"#007F00\", \"linewidth\": 2.0, \"dasharray\": \"none\", \"alpha\": 0.7, \"zorder\": 1000002.0, \"drawstyle\": \"default\"}], \"paths\": [{\"data\": \"data03\", \"xindex\": 0, \"yindex\": 1, \"coordinates\": \"axes\", \"pathcodes\": [\"M\", \"L\", \"S\", \"L\", \"S\", \"L\", \"S\", \"L\", \"S\", \"Z\"], \"id\": \"el513386811043728\", \"dasharray\": \"none\", \"alpha\": 0.5, \"facecolor\": \"rgba(255, 255, 255, 0.5)\", \"edgecolor\": \"rgba(204, 204, 204, 0.5)\", \"edgewidth\": 1.0, \"zorder\": 1000000.0}], \"markers\": [], \"texts\": [{\"text\": \"Time (days)\", \"position\": [0.5, -0.08048197203826342], \"coordinates\": \"axes\", \"h_anchor\": \"middle\", \"v_baseline\": \"hanging\", \"rotation\": -0.0, \"fontsize\": 10.0, \"color\": \"#000000\", \"alpha\": 1, \"zorder\": 3, \"id\": \"el513386811388944\"}, {\"text\": \"Susceptible\", \"position\": [0.8803763440860216, 0.5551876379690949], \"coordinates\": \"axes\", \"h_anchor\": \"start\", \"v_baseline\": \"auto\", \"rotation\": -0.0, \"fontsize\": 10.0, \"color\": \"#000000\", \"alpha\": 1, \"zorder\": 1000003.0, \"id\": \"el513386811043536\"}, {\"text\": \"Infected\", \"position\": [0.8803763440860216, 0.48620309050772625], \"coordinates\": \"axes\", \"h_anchor\": \"start\", \"v_baseline\": \"auto\", \"rotation\": -0.0, \"fontsize\": 10.0, \"color\": \"#000000\", \"alpha\": 1, \"zorder\": 1000003.0, \"id\": \"el513386928384208\"}, {\"text\": \"Recovered\", \"position\": [0.8803763440860216, 0.41721854304635764], \"coordinates\": \"axes\", \"h_anchor\": \"start\", \"v_baseline\": \"auto\", \"rotation\": -0.0, \"fontsize\": 10.0, \"color\": \"#000000\", \"alpha\": 1, \"zorder\": 1000003.0, \"id\": \"el513386928385888\"}], \"collections\": [], \"images\": [], \"sharex\": [], \"sharey\": []}], \"data\": {\"data01\": [[0.0, 999.0, 1.0, 0.0], [1.0, 997.5144588188176, 2.1135074461329757, 0.37203373504933485], [2.0, 994.3854713442688, 4.457066388547796, 1.1574622671834502], [3.0, 987.8342089787894, 9.35581608486171, 2.8099749363489086], [4.0, 974.2876528386269, 19.450300309698555, 6.262046851674833], [5.0, 946.9837883494648, 39.64801039070232, 13.368201259833056], [6.0, 894.6729081392044, 77.75294384076622, 27.574148020029593], [7.0, 803.4732149867843, 142.0740543065743, 54.452730706641596], [8.0, 667.5539961490002, 231.66237844108485, 100.78362540991506], [9.0, 504.90334253851944, 324.49971253872087, 170.59694492275977], [10.0, 352.4617778744318, 387.0850739825798, 260.45314814298837], [11.0, 236.50423108567406, 403.2985961586994, 360.19717275562664], [12.0, 159.33720751924727, 381.72978718305103, 458.9330052977018], [13.0, 110.9728910342336, 339.6599061521859, 549.3672028135805], [14.0, 80.95450538998317, 290.82863721061483, 628.2168573994019], [15.0, 62.00475674591004, 243.10932092392414, 694.8859223301657], [16.0, 49.70297091465336, 200.12450796710834, 750.1725211182383], [17.0, 41.46991261969635, 163.08343038812544, 795.4466569921781], [18.0, 35.79863505554628, 131.99010487784494, 832.2112600666086], [19.0, 31.790894648921377, 106.31538095246117, 861.8937243986175], [20.0, 28.896240396624247, 85.34292861280673, 885.760830990569], [21.0, 26.767071461465218, 68.3373388213136, 904.8955897172212], [22.0, 25.17727665393383, 54.61948706052278, 920.2032362855434], [23.0, 23.975602308158514, 43.594880331267674, 932.4295173605738], [24.0, 23.058247085403227, 34.75892489756005, 942.1828280170367], [25.0, 22.352321826593176, 27.691526698951584, 949.9561514744553], [26.0, 21.805598124911587, 22.047383450886706, 956.1470184242019], [27.0, 21.379988901273176, 17.545156566287783, 961.0748545324393], [28.0, 21.047298177752236, 13.957050685672968, 964.995651136575], [29.0, 20.78638444141312, 11.09945936766834, 968.1141561909187], [30.0, 20.58122520815219, 8.82488985145072, 970.5938849403973], [31.0, 20.41956914980098, 7.015158613440693, 972.5652722367585], [32.0, 20.29197960906855, 5.575748634424058, 974.1322717565075], [33.0, 20.191144221424835, 4.431181195510681, 975.3776745830646], [34.0, 20.111368958255966, 3.5212494671542993, 976.3673815745899], [35.0, 20.04820239936146, 2.7979708358085578, 977.1538267648301], [36.0, 19.99815340795795, 2.223131237260124, 977.7787153547821], [37.0, 19.95847689661128, 1.7663128248041398, 978.2752102785848], [38.0, 19.927009965055962, 1.4033137019062565, 978.669676333038], [39.0, 19.90204559556921, 1.1148840674181029, 978.9830703370129], [40.0, 19.882234785712658, 0.8857169853314942, 979.232048228956], [41.0, 19.866510331625093, 0.7036432995098283, 979.4298463688654], [42.0, 19.85402724941775, 0.5589900016607279, 979.5869827489219], [43.0, 19.8441160555256, 0.44406923176583163, 979.7118147127088], [44.0, 19.8362460302407, 0.35277149292108856, 979.8109824768385], [45.0, 19.82999627731806, 0.28024200312212094, 979.88976171956], [46.0, 19.82503288517036, 0.222623266947235, 979.9523438478827], [47.0, 19.821090877967027, 0.17685036025572798, 980.0020587617776], [48.0, 19.817959939268263, 0.14048818970424967, 980.0415518710279], [49.0, 19.815473108310858, 0.11160212676093444, 980.0729247649285]], \"data02\": [[0.8301971326164875, 0.5712840323767475, 0.5022994849153789, 0.43331493745401034], [0.8660394265232976, 0.5712840323767475, 0.5022994849153789, 0.43331493745401034]], \"data03\": [[0.8266129032258065, 0.38962472406181015], [0.9874551971326165, 0.38962472406181015], [0.9910394265232975, 0.38962472406181015], [0.9910394265232975, 0.398822663723326], [0.9910394265232975, 0.601177336276674], [0.9910394265232975, 0.6103752759381899], [0.9874551971326165, 0.6103752759381899], [0.8266129032258065, 0.6103752759381899], [0.8230286738351255, 0.6103752759381899], [0.8230286738351255, 0.601177336276674], [0.8230286738351255, 0.398822663723326], [0.8230286738351255, 0.38962472406181015], [0.8266129032258065, 0.38962472406181015]]}, \"id\": \"el513388445116528\", \"plugins\": [{\"type\": \"reset\"}, {\"type\": \"zoom\", \"button\": true, \"enabled\": false}, {\"type\": \"boxzoom\", \"button\": true, \"enabled\": false}]});\n",
       "            })\n",
       "         });\n",
       "}\n",
       "</script>"
      ],
      "text/plain": [
       "<Figure size 720x288 with 1 Axes>"
      ]
     },
     "metadata": {
      "needs_background": "light"
     },
     "output_type": "display_data"
    }
   ],
   "source": [
    "plotsir(t, S, I, R)"
   ]
  },
  {
   "cell_type": "code",
   "execution_count": 22,
   "metadata": {},
   "outputs": [],
   "source": [
    "# GLOBAL VARIABLES/CONSTANTS\n",
    "\n",
    "# SQLite File Path formatter\n",
    "__SQLITE_PATH_FORMAT = \"Data/alben_06_13_{number}0/micro_config.sqlite\"\n",
    "\n",
    "# sections.shp File Path\n",
    "__SECTION_SHP = \"Data/sections.shp\"\n",
    "\n",
    "# Number of experiments\n",
    "__NUM_EXP = 11\n",
    "\n",
    "# Output File Directory\n",
    "__OUTPUT = \"Output/\"\n",
    "\n",
    "# SQL Query to be excecuted for different tables\n",
    "__SQL_EXTRACT_MISECT_QUERY = 'SELECT * FROM MISECT'\n",
    "__SQL_EXTRACT_MILANE_QUERY = 'SELECT * FROM MILANE'\n",
    "\n",
    "# Columns to extract from different tables\n",
    "__MISECT_COLUMNS = ['ent', 'eid', 'flow_capacity', 'speed', 'travel', 'traveltime', 'density', 'flow']\n",
    "__MILANE_COLUMNS = ['ent', 'eid', 'lane', 'flow', 'density', 'input_flow']\n",
    "\n",
    "# Actual time for each time step\n",
    "__TIME_REAL = ['14:15', '14:30', '14:45', '15:00', '15:15', '15:30', '15:45', '16:00', '16:15', '16:30', '16:45', '17:00', '17:15', '17:30', '17:45', '18:00', '18:15', '18:30', '18:45', '19:00', '19:15', '19:30', '19:45', '20:00']"
   ]
  },
  {
   "cell_type": "code",
   "execution_count": 23,
   "metadata": {},
   "outputs": [],
   "source": [
    "# Create a SQL connection to our SQLite database\n",
    "\n",
    "# A list of established connections to our databases\n",
    "con = []\n",
    "\n",
    "for i in range(__NUM_EXP):\n",
    "    con.append(sqlite3.connect(__SQLITE_PATH_FORMAT.format(number=i)))"
   ]
  },
  {
   "cell_type": "code",
   "execution_count": 24,
   "metadata": {},
   "outputs": [],
   "source": [
    "# Run SQL query and convert SQL to DataFrame\n",
    "\n",
    "# List of dataframes extracted from each experiment\n",
    "df = []\n",
    "df_milane = []\n",
    "for i in range(__NUM_EXP):\n",
    "    # Run SQL\n",
    "    query = pd.read_sql(__SQL_EXTRACT_MISECT_QUERY, con[i])\n",
    "    \n",
    "    # Convert SQL to DataFrame\n",
    "    dataframe = pd.DataFrame(query, columns = __MISECT_COLUMNS)\n",
    "    df.append(dataframe)\n",
    "    \n",
    "    query = pd.read_sql(__SQL_EXTRACT_MILANE_QUERY, con[i])\n",
    "    dataframe = pd.DataFrame(query, columns = __MILANE_COLUMNS)\n",
    "    df_milane.append(dataframe)"
   ]
  },
  {
   "cell_type": "code",
   "execution_count": 25,
   "metadata": {},
   "outputs": [
    {
     "data": {
      "text/plain": [
       "<Derived Projected CRS: EPSG:32610>\n",
       "Name: WGS 84 / UTM zone 10N\n",
       "Axis Info [cartesian]:\n",
       "- E[east]: Easting (metre)\n",
       "- N[north]: Northing (metre)\n",
       "Area of Use:\n",
       "- name: Between 126°W and 120°W, northern hemisphere between equator and 84°N, onshore and offshore. Canada - British Columbia (BC); Northwest Territories (NWT); Nunavut; Yukon. United States (USA) - Alaska (AK).\n",
       "- bounds: (-126.0, 0.0, -120.0, 84.0)\n",
       "Coordinate Operation:\n",
       "- name: UTM zone 10N\n",
       "- method: Transverse Mercator\n",
       "Datum: World Geodetic System 1984 ensemble\n",
       "- Ellipsoid: WGS 84\n",
       "- Prime Meridian: Greenwich"
      ]
     },
     "execution_count": 25,
     "metadata": {},
     "output_type": "execute_result"
    }
   ],
   "source": [
    "# Read the sections.shp shapefile\n",
    "sections = gpd.read_file(__SECTION_SHP)\n",
    "sections.crs"
   ]
  },
  {
   "cell_type": "code",
   "execution_count": 26,
   "metadata": {},
   "outputs": [],
   "source": [
    "# Create a deep copy of df as back up in order not to rerun the above cell\n",
    "df_copy = copy.deepcopy(df)\n",
    "df_milane_copy = copy.deepcopy(df_milane)\n",
    "sections_copy = copy.deepcopy(sections)"
   ]
  },
  {
   "cell_type": "code",
   "execution_count": 27,
   "metadata": {},
   "outputs": [],
   "source": [
    "# Restore the sections file in case of modification\n",
    "sections = copy.deepcopy(sections_copy)\n",
    "sections = sections.rename(columns={'speed': 'speed_limit'})\n",
    "df = copy.deepcopy(df_copy)"
   ]
  },
  {
   "cell_type": "code",
   "execution_count": 28,
   "metadata": {},
   "outputs": [
    {
     "data": {
      "text/plain": [
       "393362.7850271843"
      ]
     },
     "execution_count": 28,
     "metadata": {},
     "output_type": "execute_result"
    }
   ],
   "source": [
    "total_length = sections['geometry'].length.sum()\n",
    "total_length"
   ]
  },
  {
   "cell_type": "code",
   "execution_count": 29,
   "metadata": {},
   "outputs": [],
   "source": [
    "for i in range(__NUM_EXP):\n",
    "    df[i] = df[i][df[i]['speed'] >= 0.0]"
   ]
  },
  {
   "cell_type": "code",
   "execution_count": 34,
   "metadata": {},
   "outputs": [
    {
     "data": {
      "text/plain": [
       "(167313, 8)"
      ]
     },
     "execution_count": 34,
     "metadata": {},
     "output_type": "execute_result"
    }
   ],
   "source": [
    "df[0].shape"
   ]
  },
  {
   "cell_type": "markdown",
   "metadata": {},
   "source": [
    "## Using Experiment 0 (0% SRC) for experiment, congestion threshold = 0.9"
   ]
  },
  {
   "cell_type": "code",
   "execution_count": 31,
   "metadata": {},
   "outputs": [],
   "source": [
    "EXP_INDEX = 0"
   ]
  },
  {
   "cell_type": "code",
   "execution_count": 32,
   "metadata": {},
   "outputs": [],
   "source": [
    "# Preprocess dataframe to merge with sections\n",
    "\n",
    "group_cols = ['ent', 'eid']\n",
    "# identify the columns which we want to average; this could\n",
    "# equivalently be defined as list(df.columns[4:])\n",
    "metric_cols = ['speed']\n",
    "\n",
    "# create a new DataFrame with a MultiIndex consisting of the group_cols\n",
    "# and a column for the mean of each column in metric_cols\n",
    "aggs = []\n",
    "for i in range(__NUM_EXP):\n",
    "    aggs.append(df[i].groupby(group_cols)[metric_cols].mean())\n",
    "\n",
    "# 1. remove the metric_cols from df because we are going to replace them\n",
    "# with the means in aggs \n",
    "# 2. dedupe to leave only one row with each combination of group_cols\n",
    "# in df\n",
    "for i in range(__NUM_EXP):\n",
    "    # Step 1\n",
    "    df[i].drop(metric_cols, axis=1, inplace=True)\n",
    "    \n",
    "    # Step 2\n",
    "    # df[i].drop_duplicates(subset=group_cols, keep='last', inplace=True) # This line does not do anything in reality\n",
    "\n",
    "# add the mean columns from aggs into df\n",
    "for i in range(__NUM_EXP):\n",
    "    df[i] = df[i].merge(right=aggs[i], right_index=True, left_on=group_cols, how='right')\n",
    "\n",
    "# Merge datasets: sections and dataframe\n",
    "sections_cong = []\n",
    "\n",
    "for i in range(__NUM_EXP):\n",
    "    sections_cong.append(pd.merge(df[i], sections, how='left', left_on='eid', right_on='eid'))\n",
    "    \n",
    "for i in range(__NUM_EXP):\n",
    "    sections_cong[i] = sections_cong[i][['ent', 'eid', 'speed', 'speed_limit', 'geometry']]\n",
    "\n",
    "# Convert the merged sections into GeoDataFrame and drop null values\n",
    "gdf = []\n",
    "\n",
    "for i in range(__NUM_EXP):\n",
    "    gdf.append(gpd.GeoDataFrame(sections_cong[i], geometry='geometry'))\n",
    "    gdf[i]['speed'] = gdf[i]['speed'].dropna()\n",
    "    gdf[i]['length'] = gdf[i]['geometry'].length\n",
    "\n",
    "# Threshold for a section to be considered congested\n",
    "rho = [0.9]\n",
    "\n",
    "# Add a column for each section at each threshold,\n",
    "# congested = 1, else 0\n",
    "for threshold in rho:\n",
    "    for i in range(__NUM_EXP):\n",
    "        speed_ratio = gdf[i]['speed'] / gdf[i]['speed_limit']\n",
    "        gdf[i]['congested at rho = ' + str(round(threshold, 1))] = [int(r < threshold) for r in speed_ratio]\n",
    "\n",
    "# Add a column for congestion weight at each threshold,\n",
    "# congested = 1, else 0\n",
    "for threshold in rho:\n",
    "    for i in range(__NUM_EXP):\n",
    "        weight = gdf[i]['length'] * gdf[i]['congested at rho = ' + str(round(threshold, 1))]\n",
    "        gdf[i]['weight at rho = ' + str(round(threshold, 1))] = weight\n",
    "        \n",
    "# Group each GeoDataFrame on timestep and aggregate by sum\n",
    "# Remove the first row as it is the average of the rest\n",
    "gdf_agg = []\n",
    "\n",
    "for i in range(__NUM_EXP):\n",
    "    gdf_agg.append(gdf[i].groupby('ent').agg(np.sum).iloc[1:, :])\n",
    "    \n",
    "for threshold in rho:\n",
    "    for i in range(__NUM_EXP):\n",
    "        gdf_agg[i]['congestion ratio at rho = ' + str(round(threshold, 1))] = gdf_agg[i]['weight at rho = ' + str(round(threshold, 1))] / total_length"
   ]
  },
  {
   "cell_type": "code",
   "execution_count": 162,
   "metadata": {},
   "outputs": [
    {
     "data": {
      "text/plain": [
       "ent\n",
       "0     9286\n",
       "1     4803\n",
       "2     5836\n",
       "3     5917\n",
       "4     6095\n",
       "5     6291\n",
       "6     6448\n",
       "7     6653\n",
       "8     6807\n",
       "9     6694\n",
       "10    6628\n",
       "11    6687\n",
       "12    6841\n",
       "13    6906\n",
       "14    7169\n",
       "15    7136\n",
       "16    7177\n",
       "17    7312\n",
       "18    7478\n",
       "19    7423\n",
       "20    7339\n",
       "21    7294\n",
       "22    7240\n",
       "23    7030\n",
       "24    7002\n",
       "dtype: int64"
      ]
     },
     "execution_count": 162,
     "metadata": {},
     "output_type": "execute_result"
    }
   ],
   "source": [
    "gdf[0].groupby('ent').size()"
   ]
  },
  {
   "cell_type": "code",
   "execution_count": 82,
   "metadata": {},
   "outputs": [
    {
     "data": {
      "text/plain": [
       "[994,\n",
       " 1259,\n",
       " 1256,\n",
       " 1295,\n",
       " 1310,\n",
       " 1377,\n",
       " 1442,\n",
       " 1513,\n",
       " 1430,\n",
       " 1437,\n",
       " 1440,\n",
       " 1455,\n",
       " 1570,\n",
       " 1624,\n",
       " 1614,\n",
       " 1670,\n",
       " 1717,\n",
       " 1693,\n",
       " 1710,\n",
       " 1698,\n",
       " 1704,\n",
       " 1627,\n",
       " 1540,\n",
       " 1493]"
      ]
     },
     "execution_count": 82,
     "metadata": {},
     "output_type": "execute_result"
    }
   ],
   "source": [
    "gdf_agg[0]['congested at rho = 0.9'].tolist()"
   ]
  },
  {
   "cell_type": "code",
   "execution_count": 120,
   "metadata": {},
   "outputs": [],
   "source": [
    "def plotsir_w_real_data(t, S, I, R, y_real):\n",
    "    f, ax = plt.subplots(1,1,figsize=(10,4))\n",
    "    ax.plot(t, S, 'b', alpha=0.7, linewidth=2, label='Susceptible')\n",
    "    ax.plot(t, I, 'y', alpha=0.7, linewidth=2, label='Infected')\n",
    "    ax.plot(t, R, 'g', alpha=0.7, linewidth=2, label='Recovered')\n",
    "    ax.scatter(t, y_real, color='r', alpha=0.7)\n",
    "\n",
    "    ax.set_xlabel('Time (experiment step)')\n",
    "\n",
    "    ax.yaxis.set_tick_params(length=0)\n",
    "    ax.xaxis.set_tick_params(length=0)\n",
    "    ax.grid(b=True, which='major', c='w', lw=2, ls='-')\n",
    "    legend = ax.legend()\n",
    "    legend.get_frame().set_alpha(0.5)\n",
    "    for spine in ('top', 'right', 'bottom', 'left'):\n",
    "        ax.spines[spine].set_visible(False)\n",
    "    plt.show()\n",
    "    print(f\"Root mean square error: {str(rmse(I, y_real))}\")"
   ]
  },
  {
   "cell_type": "code",
   "execution_count": 156,
   "metadata": {},
   "outputs": [
    {
     "data": {
      "image/png": "[encoded data removed]",
      "text/html": [
       "\n",
       "\n",
       "<style>\n",
       "\n",
       "</style>\n",
       "\n",
       "<div id=\"fig_el5133868421869602777980880\"></div>\n",
       "<script>\n",
       "function mpld3_load_lib(url, callback){\n",
       "  var s = document.createElement('script');\n",
       "  s.src = url;\n",
       "  s.async = true;\n",
       "  s.onreadystatechange = s.onload = callback;\n",
       "  s.onerror = function(){console.warn(\"failed to load library \" + url);};\n",
       "  document.getElementsByTagName(\"head\")[0].appendChild(s);\n",
       "}\n",
       "\n",
       "if(typeof(mpld3) !== \"undefined\" && mpld3._mpld3IsLoaded){\n",
       "   // already loaded: just create the figure\n",
       "   !function(mpld3){\n",
       "       \n",
       "       mpld3.draw_figure(\"fig_el5133868421869602777980880\", {\"width\": 720.0, \"height\": 288.0, \"axes\": [{\"bbox\": [0.125, 0.125, 0.775, 0.755], \"xlim\": [-1.1500000000000001, 24.15], \"ylim\": [-288.2, 6052.2], \"xdomain\": [-1.1500000000000001, 24.15], \"ydomain\": [-288.2, 6052.2], \"xscale\": \"linear\", \"yscale\": \"linear\", \"axes\": [{\"position\": \"bottom\", \"nticks\": 7, \"tickvalues\": null, \"tickformat_formatter\": \"\", \"tickformat\": null, \"scale\": \"linear\", \"fontsize\": 10.0, \"grid\": {\"gridOn\": true, \"color\": \"#FFFFFF\", \"dasharray\": \"none\", \"alpha\": 1.0}, \"visible\": true}, {\"position\": \"left\", \"nticks\": 9, \"tickvalues\": null, \"tickformat_formatter\": \"\", \"tickformat\": null, \"scale\": \"linear\", \"fontsize\": 10.0, \"grid\": {\"gridOn\": true, \"color\": \"#FFFFFF\", \"dasharray\": \"none\", \"alpha\": 1.0}, \"visible\": true}], \"axesbg\": \"#FFFFFF\", \"axesbgalpha\": null, \"zoomable\": true, \"id\": \"el513386849980320\", \"lines\": [{\"data\": \"data01\", \"xindex\": 0, \"yindex\": 1, \"coordinates\": \"data\", \"id\": \"el513386713471088\", \"color\": \"#0000FF\", \"linewidth\": 2.0, \"dasharray\": \"none\", \"alpha\": 0.7, \"zorder\": 2, \"drawstyle\": \"default\"}, {\"data\": \"data01\", \"xindex\": 0, \"yindex\": 2, \"coordinates\": \"data\", \"id\": \"el513386780142448\", \"color\": \"#BFBF00\", \"linewidth\": 2.0, \"dasharray\": \"none\", \"alpha\": 0.7, \"zorder\": 2, \"drawstyle\": \"default\"}, {\"data\": \"data01\", \"xindex\": 0, \"yindex\": 3, \"coordinates\": \"data\", \"id\": \"el513386780146384\", \"color\": \"#007F00\", \"linewidth\": 2.0, \"dasharray\": \"none\", \"alpha\": 0.7, \"zorder\": 2, \"drawstyle\": \"default\"}, {\"data\": \"data02\", \"xindex\": 0, \"yindex\": 1, \"coordinates\": \"axes\", \"id\": \"el513386780142832\", \"color\": \"#0000FF\", \"linewidth\": 2.0, \"dasharray\": \"none\", \"alpha\": 0.7, \"zorder\": 1000002.0, \"drawstyle\": \"default\"}, {\"data\": \"data02\", \"xindex\": 0, \"yindex\": 2, \"coordinates\": \"axes\", \"id\": \"el513386780144944\", \"color\": \"#BFBF00\", \"linewidth\": 2.0, \"dasharray\": \"none\", \"alpha\": 0.7, \"zorder\": 1000002.0, \"drawstyle\": \"default\"}, {\"data\": \"data02\", \"xindex\": 0, \"yindex\": 3, \"coordinates\": \"axes\", \"id\": \"el513386780157856\", \"color\": \"#007F00\", \"linewidth\": 2.0, \"dasharray\": \"none\", \"alpha\": 0.7, \"zorder\": 1000002.0, \"drawstyle\": \"default\"}], \"paths\": [{\"data\": \"data03\", \"xindex\": 0, \"yindex\": 1, \"coordinates\": \"axes\", \"pathcodes\": [\"M\", \"L\", \"S\", \"L\", \"S\", \"L\", \"S\", \"L\", \"S\", \"Z\"], \"id\": \"el513386780142016\", \"dasharray\": \"none\", \"alpha\": 0.5, \"facecolor\": \"rgba(255, 255, 255, 0.5)\", \"edgecolor\": \"rgba(204, 204, 204, 0.5)\", \"edgewidth\": 1.0, \"zorder\": 1000000.0}], \"markers\": [], \"texts\": [{\"text\": \"Time (experiment step)\", \"position\": [0.5, -0.08048197203826342], \"coordinates\": \"axes\", \"h_anchor\": \"middle\", \"v_baseline\": \"hanging\", \"rotation\": -0.0, \"fontsize\": 10.0, \"color\": \"#000000\", \"alpha\": 1, \"zorder\": 3, \"id\": \"el513386780012480\"}, {\"text\": \"Susceptible\", \"position\": [0.8803763440860216, 0.9218175128771156], \"coordinates\": \"axes\", \"h_anchor\": \"start\", \"v_baseline\": \"auto\", \"rotation\": -0.0, \"fontsize\": 10.0, \"color\": \"#000000\", \"alpha\": 1, \"zorder\": 1000003.0, \"id\": \"el513386780152432\"}, {\"text\": \"Infected\", \"position\": [0.8803763440860216, 0.8528329654157469], \"coordinates\": \"axes\", \"h_anchor\": \"start\", \"v_baseline\": \"auto\", \"rotation\": -0.0, \"fontsize\": 10.0, \"color\": \"#000000\", \"alpha\": 1, \"zorder\": 1000003.0, \"id\": \"el513386780152000\"}, {\"text\": \"Recovered\", \"position\": [0.8803763440860216, 0.7838484179543782], \"coordinates\": \"axes\", \"h_anchor\": \"start\", \"v_baseline\": \"auto\", \"rotation\": -0.0, \"fontsize\": 10.0, \"color\": \"#000000\", \"alpha\": 1, \"zorder\": 1000003.0, \"id\": \"el513386780151520\"}], \"collections\": [{\"offsets\": \"data01\", \"xindex\": 0, \"yindex\": 4, \"paths\": [[[[0.0, -0.5], [0.13260155, -0.5], [0.25978993539242673, -0.44731684579412084], [0.3535533905932738, -0.3535533905932738], [0.44731684579412084, -0.25978993539242673], [0.5, -0.13260155], [0.5, 0.0], [0.5, 0.13260155], [0.44731684579412084, 0.25978993539242673], [0.3535533905932738, 0.3535533905932738], [0.25978993539242673, 0.44731684579412084], [0.13260155, 0.5], [0.0, 0.5], [-0.13260155, 0.5], [-0.25978993539242673, 0.44731684579412084], [-0.3535533905932738, 0.3535533905932738], [-0.44731684579412084, 0.25978993539242673], [-0.5, 0.13260155], [-0.5, 0.0], [-0.5, -0.13260155], [-0.44731684579412084, -0.25978993539242673], [-0.3535533905932738, -0.3535533905932738], [-0.25978993539242673, -0.44731684579412084], [-0.13260155, -0.5], [0.0, -0.5]], [\"M\", \"C\", \"C\", \"C\", \"C\", \"C\", \"C\", \"C\", \"C\", \"Z\"]]], \"pathtransforms\": [[6.0, 0.0, 0.0, 6.0, 0.0, 0.0]], \"alphas\": [0.7], \"edgecolors\": [\"rgba(255, 0, 0, 0.7)\"], \"facecolors\": [\"rgba(255, 0, 0, 0.7)\"], \"edgewidths\": [1.0], \"offsetcoordinates\": \"data\", \"pathcoordinates\": \"display\", \"zorder\": 1, \"id\": \"el513386780144464\"}], \"images\": [], \"sharex\": [], \"sharey\": []}], \"data\": {\"data01\": [[0.0, 5764.0, 994.0, 0.0, 994.0], [1.0, 5580.697011139039, 1073.9096332816246, 103.39335557933579, 1259.0], [2.0, 5389.7562650665905, 1153.4732311526236, 214.77050378078465, 1256.0], [3.0, 5192.531746800577, 1231.4336294752625, 334.034623724159, 1295.0], [4.0, 4990.558718548234, 1306.4811450699772, 460.9601363817864, 1310.0], [5.0, 4785.503231999582, 1377.3067067087563, 595.1900612916594, 1377.0], [6.0, 4579.102868387757, 1442.6582425267752, 736.2388890854656, 1442.0], [7.0, 4373.103254686132, 1501.3956822690034, 883.5010630448627, 1513.0], [8.0, 4169.195366906867, 1552.539939524156, 1036.2646935689738, 1430.0], [9.0, 3968.9584576233988, 1595.3118280603094, 1193.7297143162887, 1437.0], [10.0, 3773.8125631100893, 1629.1581644040677, 1355.0292724858393, 1440.0], [11.0, 3584.983314950432, 1653.7636360458682, 1519.2530490036966, 1455.0], [12.0, 3403.48025722341, 1669.0486812146992, 1685.4710615618876, 1570.0], [13.0, 3230.0884689966356, 1675.1549341257887, 1852.7565968775725, 1624.0], [14.0, 3065.3720559538883, 1672.4207670171795, 2020.2071770289285, 1614.0], [15.0, 2909.6873225517897, 1661.349963912721, 2186.962713535486, 1670.0], [16.0, 2763.203007133915, 1642.5766784609395, 2352.220314405142, 1717.0], [17.0, 2625.924947974032, 1616.8295300385657, 2515.2455219873987, 1693.0], [18.0, 2497.7227911890873, 1584.89719004526, 2675.380018765649, 1710.0], [19.0, 2378.3567896212157, 1547.5971704244357, 2832.0460399543454, 1698.0], [20.0, 2267.5032041522645, 1505.7489226086552, 2984.747873239077, 1704.0], [21.0, 2164.777324065626, 1460.1517678418338, 3133.070908092537, 1627.0], [22.0, 2069.7535488672515, 1411.5677198996564, 3276.678731233089, 1540.0], [23.0, 1981.9823339042887, 1360.708956407231, 3415.3087096884774, 1493.0]], \"data02\": [[0.8301971326164875, 0.9379139072847682, 0.8689293598233996, 0.7999448123620309], [0.8660394265232976, 0.9379139072847682, 0.8689293598233996, 0.7999448123620309]], \"data03\": [[0.8266129032258065, 0.7562545989698307], [0.9874551971326165, 0.7562545989698307], [0.9910394265232975, 0.7562545989698307], [0.9910394265232975, 0.7654525386313465], [0.9910394265232975, 0.9678072111846947], [0.9910394265232975, 0.9770051508462105], [0.9874551971326165, 0.9770051508462105], [0.8266129032258065, 0.9770051508462105], [0.8230286738351255, 0.9770051508462105], [0.8230286738351255, 0.9678072111846947], [0.8230286738351255, 0.7654525386313465], [0.8230286738351255, 0.7562545989698307], [0.8266129032258065, 0.7562545989698307]]}, \"id\": \"el513386842186960\", \"plugins\": [{\"type\": \"reset\"}, {\"type\": \"zoom\", \"button\": true, \"enabled\": false}, {\"type\": \"boxzoom\", \"button\": true, \"enabled\": false}]});\n",
       "   }(mpld3);\n",
       "}else if(typeof define === \"function\" && define.amd){\n",
       "   // require.js is available: use it to load d3/mpld3\n",
       "   require.config({paths: {d3: \"https://d3js.org/d3.v5\"}});\n",
       "   require([\"d3\"], function(d3){\n",
       "      window.d3 = d3;\n",
       "      mpld3_load_lib(\"https://mpld3.github.io/js/mpld3.v0.5.9.js\", function(){\n",
       "         \n",
       "         mpld3.draw_figure(\"fig_el5133868421869602777980880\", {\"width\": 720.0, \"height\": 288.0, \"axes\": [{\"bbox\": [0.125, 0.125, 0.775, 0.755], \"xlim\": [-1.1500000000000001, 24.15], \"ylim\": [-288.2, 6052.2], \"xdomain\": [-1.1500000000000001, 24.15], \"ydomain\": [-288.2, 6052.2], \"xscale\": \"linear\", \"yscale\": \"linear\", \"axes\": [{\"position\": \"bottom\", \"nticks\": 7, \"tickvalues\": null, \"tickformat_formatter\": \"\", \"tickformat\": null, \"scale\": \"linear\", \"fontsize\": 10.0, \"grid\": {\"gridOn\": true, \"color\": \"#FFFFFF\", \"dasharray\": \"none\", \"alpha\": 1.0}, \"visible\": true}, {\"position\": \"left\", \"nticks\": 9, \"tickvalues\": null, \"tickformat_formatter\": \"\", \"tickformat\": null, \"scale\": \"linear\", \"fontsize\": 10.0, \"grid\": {\"gridOn\": true, \"color\": \"#FFFFFF\", \"dasharray\": \"none\", \"alpha\": 1.0}, \"visible\": true}], \"axesbg\": \"#FFFFFF\", \"axesbgalpha\": null, \"zoomable\": true, \"id\": \"el513386849980320\", \"lines\": [{\"data\": \"data01\", \"xindex\": 0, \"yindex\": 1, \"coordinates\": \"data\", \"id\": \"el513386713471088\", \"color\": \"#0000FF\", \"linewidth\": 2.0, \"dasharray\": \"none\", \"alpha\": 0.7, \"zorder\": 2, \"drawstyle\": \"default\"}, {\"data\": \"data01\", \"xindex\": 0, \"yindex\": 2, \"coordinates\": \"data\", \"id\": \"el513386780142448\", \"color\": \"#BFBF00\", \"linewidth\": 2.0, \"dasharray\": \"none\", \"alpha\": 0.7, \"zorder\": 2, \"drawstyle\": \"default\"}, {\"data\": \"data01\", \"xindex\": 0, \"yindex\": 3, \"coordinates\": \"data\", \"id\": \"el513386780146384\", \"color\": \"#007F00\", \"linewidth\": 2.0, \"dasharray\": \"none\", \"alpha\": 0.7, \"zorder\": 2, \"drawstyle\": \"default\"}, {\"data\": \"data02\", \"xindex\": 0, \"yindex\": 1, \"coordinates\": \"axes\", \"id\": \"el513386780142832\", \"color\": \"#0000FF\", \"linewidth\": 2.0, \"dasharray\": \"none\", \"alpha\": 0.7, \"zorder\": 1000002.0, \"drawstyle\": \"default\"}, {\"data\": \"data02\", \"xindex\": 0, \"yindex\": 2, \"coordinates\": \"axes\", \"id\": \"el513386780144944\", \"color\": \"#BFBF00\", \"linewidth\": 2.0, \"dasharray\": \"none\", \"alpha\": 0.7, \"zorder\": 1000002.0, \"drawstyle\": \"default\"}, {\"data\": \"data02\", \"xindex\": 0, \"yindex\": 3, \"coordinates\": \"axes\", \"id\": \"el513386780157856\", \"color\": \"#007F00\", \"linewidth\": 2.0, \"dasharray\": \"none\", \"alpha\": 0.7, \"zorder\": 1000002.0, \"drawstyle\": \"default\"}], \"paths\": [{\"data\": \"data03\", \"xindex\": 0, \"yindex\": 1, \"coordinates\": \"axes\", \"pathcodes\": [\"M\", \"L\", \"S\", \"L\", \"S\", \"L\", \"S\", \"L\", \"S\", \"Z\"], \"id\": \"el513386780142016\", \"dasharray\": \"none\", \"alpha\": 0.5, \"facecolor\": \"rgba(255, 255, 255, 0.5)\", \"edgecolor\": \"rgba(204, 204, 204, 0.5)\", \"edgewidth\": 1.0, \"zorder\": 1000000.0}], \"markers\": [], \"texts\": [{\"text\": \"Time (experiment step)\", \"position\": [0.5, -0.08048197203826342], \"coordinates\": \"axes\", \"h_anchor\": \"middle\", \"v_baseline\": \"hanging\", \"rotation\": -0.0, \"fontsize\": 10.0, \"color\": \"#000000\", \"alpha\": 1, \"zorder\": 3, \"id\": \"el513386780012480\"}, {\"text\": \"Susceptible\", \"position\": [0.8803763440860216, 0.9218175128771156], \"coordinates\": \"axes\", \"h_anchor\": \"start\", \"v_baseline\": \"auto\", \"rotation\": -0.0, \"fontsize\": 10.0, \"color\": \"#000000\", \"alpha\": 1, \"zorder\": 1000003.0, \"id\": \"el513386780152432\"}, {\"text\": \"Infected\", \"position\": [0.8803763440860216, 0.8528329654157469], \"coordinates\": \"axes\", \"h_anchor\": \"start\", \"v_baseline\": \"auto\", \"rotation\": -0.0, \"fontsize\": 10.0, \"color\": \"#000000\", \"alpha\": 1, \"zorder\": 1000003.0, \"id\": \"el513386780152000\"}, {\"text\": \"Recovered\", \"position\": [0.8803763440860216, 0.7838484179543782], \"coordinates\": \"axes\", \"h_anchor\": \"start\", \"v_baseline\": \"auto\", \"rotation\": -0.0, \"fontsize\": 10.0, \"color\": \"#000000\", \"alpha\": 1, \"zorder\": 1000003.0, \"id\": \"el513386780151520\"}], \"collections\": [{\"offsets\": \"data01\", \"xindex\": 0, \"yindex\": 4, \"paths\": [[[[0.0, -0.5], [0.13260155, -0.5], [0.25978993539242673, -0.44731684579412084], [0.3535533905932738, -0.3535533905932738], [0.44731684579412084, -0.25978993539242673], [0.5, -0.13260155], [0.5, 0.0], [0.5, 0.13260155], [0.44731684579412084, 0.25978993539242673], [0.3535533905932738, 0.3535533905932738], [0.25978993539242673, 0.44731684579412084], [0.13260155, 0.5], [0.0, 0.5], [-0.13260155, 0.5], [-0.25978993539242673, 0.44731684579412084], [-0.3535533905932738, 0.3535533905932738], [-0.44731684579412084, 0.25978993539242673], [-0.5, 0.13260155], [-0.5, 0.0], [-0.5, -0.13260155], [-0.44731684579412084, -0.25978993539242673], [-0.3535533905932738, -0.3535533905932738], [-0.25978993539242673, -0.44731684579412084], [-0.13260155, -0.5], [0.0, -0.5]], [\"M\", \"C\", \"C\", \"C\", \"C\", \"C\", \"C\", \"C\", \"C\", \"Z\"]]], \"pathtransforms\": [[6.0, 0.0, 0.0, 6.0, 0.0, 0.0]], \"alphas\": [0.7], \"edgecolors\": [\"rgba(255, 0, 0, 0.7)\"], \"facecolors\": [\"rgba(255, 0, 0, 0.7)\"], \"edgewidths\": [1.0], \"offsetcoordinates\": \"data\", \"pathcoordinates\": \"display\", \"zorder\": 1, \"id\": \"el513386780144464\"}], \"images\": [], \"sharex\": [], \"sharey\": []}], \"data\": {\"data01\": [[0.0, 5764.0, 994.0, 0.0, 994.0], [1.0, 5580.697011139039, 1073.9096332816246, 103.39335557933579, 1259.0], [2.0, 5389.7562650665905, 1153.4732311526236, 214.77050378078465, 1256.0], [3.0, 5192.531746800577, 1231.4336294752625, 334.034623724159, 1295.0], [4.0, 4990.558718548234, 1306.4811450699772, 460.9601363817864, 1310.0], [5.0, 4785.503231999582, 1377.3067067087563, 595.1900612916594, 1377.0], [6.0, 4579.102868387757, 1442.6582425267752, 736.2388890854656, 1442.0], [7.0, 4373.103254686132, 1501.3956822690034, 883.5010630448627, 1513.0], [8.0, 4169.195366906867, 1552.539939524156, 1036.2646935689738, 1430.0], [9.0, 3968.9584576233988, 1595.3118280603094, 1193.7297143162887, 1437.0], [10.0, 3773.8125631100893, 1629.1581644040677, 1355.0292724858393, 1440.0], [11.0, 3584.983314950432, 1653.7636360458682, 1519.2530490036966, 1455.0], [12.0, 3403.48025722341, 1669.0486812146992, 1685.4710615618876, 1570.0], [13.0, 3230.0884689966356, 1675.1549341257887, 1852.7565968775725, 1624.0], [14.0, 3065.3720559538883, 1672.4207670171795, 2020.2071770289285, 1614.0], [15.0, 2909.6873225517897, 1661.349963912721, 2186.962713535486, 1670.0], [16.0, 2763.203007133915, 1642.5766784609395, 2352.220314405142, 1717.0], [17.0, 2625.924947974032, 1616.8295300385657, 2515.2455219873987, 1693.0], [18.0, 2497.7227911890873, 1584.89719004526, 2675.380018765649, 1710.0], [19.0, 2378.3567896212157, 1547.5971704244357, 2832.0460399543454, 1698.0], [20.0, 2267.5032041522645, 1505.7489226086552, 2984.747873239077, 1704.0], [21.0, 2164.777324065626, 1460.1517678418338, 3133.070908092537, 1627.0], [22.0, 2069.7535488672515, 1411.5677198996564, 3276.678731233089, 1540.0], [23.0, 1981.9823339042887, 1360.708956407231, 3415.3087096884774, 1493.0]], \"data02\": [[0.8301971326164875, 0.9379139072847682, 0.8689293598233996, 0.7999448123620309], [0.8660394265232976, 0.9379139072847682, 0.8689293598233996, 0.7999448123620309]], \"data03\": [[0.8266129032258065, 0.7562545989698307], [0.9874551971326165, 0.7562545989698307], [0.9910394265232975, 0.7562545989698307], [0.9910394265232975, 0.7654525386313465], [0.9910394265232975, 0.9678072111846947], [0.9910394265232975, 0.9770051508462105], [0.9874551971326165, 0.9770051508462105], [0.8266129032258065, 0.9770051508462105], [0.8230286738351255, 0.9770051508462105], [0.8230286738351255, 0.9678072111846947], [0.8230286738351255, 0.7654525386313465], [0.8230286738351255, 0.7562545989698307], [0.8266129032258065, 0.7562545989698307]]}, \"id\": \"el513386842186960\", \"plugins\": [{\"type\": \"reset\"}, {\"type\": \"zoom\", \"button\": true, \"enabled\": false}, {\"type\": \"boxzoom\", \"button\": true, \"enabled\": false}]});\n",
       "      });\n",
       "    });\n",
       "}else{\n",
       "    // require.js not available: dynamically load d3 & mpld3\n",
       "    mpld3_load_lib(\"https://d3js.org/d3.v5.js\", function(){\n",
       "         mpld3_load_lib(\"https://mpld3.github.io/js/mpld3.v0.5.9.js\", function(){\n",
       "                 \n",
       "                 mpld3.draw_figure(\"fig_el5133868421869602777980880\", {\"width\": 720.0, \"height\": 288.0, \"axes\": [{\"bbox\": [0.125, 0.125, 0.775, 0.755], \"xlim\": [-1.1500000000000001, 24.15], \"ylim\": [-288.2, 6052.2], \"xdomain\": [-1.1500000000000001, 24.15], \"ydomain\": [-288.2, 6052.2], \"xscale\": \"linear\", \"yscale\": \"linear\", \"axes\": [{\"position\": \"bottom\", \"nticks\": 7, \"tickvalues\": null, \"tickformat_formatter\": \"\", \"tickformat\": null, \"scale\": \"linear\", \"fontsize\": 10.0, \"grid\": {\"gridOn\": true, \"color\": \"#FFFFFF\", \"dasharray\": \"none\", \"alpha\": 1.0}, \"visible\": true}, {\"position\": \"left\", \"nticks\": 9, \"tickvalues\": null, \"tickformat_formatter\": \"\", \"tickformat\": null, \"scale\": \"linear\", \"fontsize\": 10.0, \"grid\": {\"gridOn\": true, \"color\": \"#FFFFFF\", \"dasharray\": \"none\", \"alpha\": 1.0}, \"visible\": true}], \"axesbg\": \"#FFFFFF\", \"axesbgalpha\": null, \"zoomable\": true, \"id\": \"el513386849980320\", \"lines\": [{\"data\": \"data01\", \"xindex\": 0, \"yindex\": 1, \"coordinates\": \"data\", \"id\": \"el513386713471088\", \"color\": \"#0000FF\", \"linewidth\": 2.0, \"dasharray\": \"none\", \"alpha\": 0.7, \"zorder\": 2, \"drawstyle\": \"default\"}, {\"data\": \"data01\", \"xindex\": 0, \"yindex\": 2, \"coordinates\": \"data\", \"id\": \"el513386780142448\", \"color\": \"#BFBF00\", \"linewidth\": 2.0, \"dasharray\": \"none\", \"alpha\": 0.7, \"zorder\": 2, \"drawstyle\": \"default\"}, {\"data\": \"data01\", \"xindex\": 0, \"yindex\": 3, \"coordinates\": \"data\", \"id\": \"el513386780146384\", \"color\": \"#007F00\", \"linewidth\": 2.0, \"dasharray\": \"none\", \"alpha\": 0.7, \"zorder\": 2, \"drawstyle\": \"default\"}, {\"data\": \"data02\", \"xindex\": 0, \"yindex\": 1, \"coordinates\": \"axes\", \"id\": \"el513386780142832\", \"color\": \"#0000FF\", \"linewidth\": 2.0, \"dasharray\": \"none\", \"alpha\": 0.7, \"zorder\": 1000002.0, \"drawstyle\": \"default\"}, {\"data\": \"data02\", \"xindex\": 0, \"yindex\": 2, \"coordinates\": \"axes\", \"id\": \"el513386780144944\", \"color\": \"#BFBF00\", \"linewidth\": 2.0, \"dasharray\": \"none\", \"alpha\": 0.7, \"zorder\": 1000002.0, \"drawstyle\": \"default\"}, {\"data\": \"data02\", \"xindex\": 0, \"yindex\": 3, \"coordinates\": \"axes\", \"id\": \"el513386780157856\", \"color\": \"#007F00\", \"linewidth\": 2.0, \"dasharray\": \"none\", \"alpha\": 0.7, \"zorder\": 1000002.0, \"drawstyle\": \"default\"}], \"paths\": [{\"data\": \"data03\", \"xindex\": 0, \"yindex\": 1, \"coordinates\": \"axes\", \"pathcodes\": [\"M\", \"L\", \"S\", \"L\", \"S\", \"L\", \"S\", \"L\", \"S\", \"Z\"], \"id\": \"el513386780142016\", \"dasharray\": \"none\", \"alpha\": 0.5, \"facecolor\": \"rgba(255, 255, 255, 0.5)\", \"edgecolor\": \"rgba(204, 204, 204, 0.5)\", \"edgewidth\": 1.0, \"zorder\": 1000000.0}], \"markers\": [], \"texts\": [{\"text\": \"Time (experiment step)\", \"position\": [0.5, -0.08048197203826342], \"coordinates\": \"axes\", \"h_anchor\": \"middle\", \"v_baseline\": \"hanging\", \"rotation\": -0.0, \"fontsize\": 10.0, \"color\": \"#000000\", \"alpha\": 1, \"zorder\": 3, \"id\": \"el513386780012480\"}, {\"text\": \"Susceptible\", \"position\": [0.8803763440860216, 0.9218175128771156], \"coordinates\": \"axes\", \"h_anchor\": \"start\", \"v_baseline\": \"auto\", \"rotation\": -0.0, \"fontsize\": 10.0, \"color\": \"#000000\", \"alpha\": 1, \"zorder\": 1000003.0, \"id\": \"el513386780152432\"}, {\"text\": \"Infected\", \"position\": [0.8803763440860216, 0.8528329654157469], \"coordinates\": \"axes\", \"h_anchor\": \"start\", \"v_baseline\": \"auto\", \"rotation\": -0.0, \"fontsize\": 10.0, \"color\": \"#000000\", \"alpha\": 1, \"zorder\": 1000003.0, \"id\": \"el513386780152000\"}, {\"text\": \"Recovered\", \"position\": [0.8803763440860216, 0.7838484179543782], \"coordinates\": \"axes\", \"h_anchor\": \"start\", \"v_baseline\": \"auto\", \"rotation\": -0.0, \"fontsize\": 10.0, \"color\": \"#000000\", \"alpha\": 1, \"zorder\": 1000003.0, \"id\": \"el513386780151520\"}], \"collections\": [{\"offsets\": \"data01\", \"xindex\": 0, \"yindex\": 4, \"paths\": [[[[0.0, -0.5], [0.13260155, -0.5], [0.25978993539242673, -0.44731684579412084], [0.3535533905932738, -0.3535533905932738], [0.44731684579412084, -0.25978993539242673], [0.5, -0.13260155], [0.5, 0.0], [0.5, 0.13260155], [0.44731684579412084, 0.25978993539242673], [0.3535533905932738, 0.3535533905932738], [0.25978993539242673, 0.44731684579412084], [0.13260155, 0.5], [0.0, 0.5], [-0.13260155, 0.5], [-0.25978993539242673, 0.44731684579412084], [-0.3535533905932738, 0.3535533905932738], [-0.44731684579412084, 0.25978993539242673], [-0.5, 0.13260155], [-0.5, 0.0], [-0.5, -0.13260155], [-0.44731684579412084, -0.25978993539242673], [-0.3535533905932738, -0.3535533905932738], [-0.25978993539242673, -0.44731684579412084], [-0.13260155, -0.5], [0.0, -0.5]], [\"M\", \"C\", \"C\", \"C\", \"C\", \"C\", \"C\", \"C\", \"C\", \"Z\"]]], \"pathtransforms\": [[6.0, 0.0, 0.0, 6.0, 0.0, 0.0]], \"alphas\": [0.7], \"edgecolors\": [\"rgba(255, 0, 0, 0.7)\"], \"facecolors\": [\"rgba(255, 0, 0, 0.7)\"], \"edgewidths\": [1.0], \"offsetcoordinates\": \"data\", \"pathcoordinates\": \"display\", \"zorder\": 1, \"id\": \"el513386780144464\"}], \"images\": [], \"sharex\": [], \"sharey\": []}], \"data\": {\"data01\": [[0.0, 5764.0, 994.0, 0.0, 994.0], [1.0, 5580.697011139039, 1073.9096332816246, 103.39335557933579, 1259.0], [2.0, 5389.7562650665905, 1153.4732311526236, 214.77050378078465, 1256.0], [3.0, 5192.531746800577, 1231.4336294752625, 334.034623724159, 1295.0], [4.0, 4990.558718548234, 1306.4811450699772, 460.9601363817864, 1310.0], [5.0, 4785.503231999582, 1377.3067067087563, 595.1900612916594, 1377.0], [6.0, 4579.102868387757, 1442.6582425267752, 736.2388890854656, 1442.0], [7.0, 4373.103254686132, 1501.3956822690034, 883.5010630448627, 1513.0], [8.0, 4169.195366906867, 1552.539939524156, 1036.2646935689738, 1430.0], [9.0, 3968.9584576233988, 1595.3118280603094, 1193.7297143162887, 1437.0], [10.0, 3773.8125631100893, 1629.1581644040677, 1355.0292724858393, 1440.0], [11.0, 3584.983314950432, 1653.7636360458682, 1519.2530490036966, 1455.0], [12.0, 3403.48025722341, 1669.0486812146992, 1685.4710615618876, 1570.0], [13.0, 3230.0884689966356, 1675.1549341257887, 1852.7565968775725, 1624.0], [14.0, 3065.3720559538883, 1672.4207670171795, 2020.2071770289285, 1614.0], [15.0, 2909.6873225517897, 1661.349963912721, 2186.962713535486, 1670.0], [16.0, 2763.203007133915, 1642.5766784609395, 2352.220314405142, 1717.0], [17.0, 2625.924947974032, 1616.8295300385657, 2515.2455219873987, 1693.0], [18.0, 2497.7227911890873, 1584.89719004526, 2675.380018765649, 1710.0], [19.0, 2378.3567896212157, 1547.5971704244357, 2832.0460399543454, 1698.0], [20.0, 2267.5032041522645, 1505.7489226086552, 2984.747873239077, 1704.0], [21.0, 2164.777324065626, 1460.1517678418338, 3133.070908092537, 1627.0], [22.0, 2069.7535488672515, 1411.5677198996564, 3276.678731233089, 1540.0], [23.0, 1981.9823339042887, 1360.708956407231, 3415.3087096884774, 1493.0]], \"data02\": [[0.8301971326164875, 0.9379139072847682, 0.8689293598233996, 0.7999448123620309], [0.8660394265232976, 0.9379139072847682, 0.8689293598233996, 0.7999448123620309]], \"data03\": [[0.8266129032258065, 0.7562545989698307], [0.9874551971326165, 0.7562545989698307], [0.9910394265232975, 0.7562545989698307], [0.9910394265232975, 0.7654525386313465], [0.9910394265232975, 0.9678072111846947], [0.9910394265232975, 0.9770051508462105], [0.9874551971326165, 0.9770051508462105], [0.8266129032258065, 0.9770051508462105], [0.8230286738351255, 0.9770051508462105], [0.8230286738351255, 0.9678072111846947], [0.8230286738351255, 0.7654525386313465], [0.8230286738351255, 0.7562545989698307], [0.8266129032258065, 0.7562545989698307]]}, \"id\": \"el513386842186960\", \"plugins\": [{\"type\": \"reset\"}, {\"type\": \"zoom\", \"button\": true, \"enabled\": false}, {\"type\": \"boxzoom\", \"button\": true, \"enabled\": false}]});\n",
       "            })\n",
       "         });\n",
       "}\n",
       "</script>"
      ],
      "text/plain": [
       "<Figure size 720x288 with 1 Axes>"
      ]
     },
     "metadata": {
      "needs_background": "light"
     },
     "output_type": "display_data"
    },
    {
     "name": "stdout",
     "output_type": "stream",
     "text": [
      "Root mean square error: 117.43620033805209\n"
     ]
    }
   ],
   "source": [
    "N = 6758 # using the mean of number of sections with recorded data\n",
    "beta = 0.211237 # congested road section infects 1 other road section per timestep\n",
    "D = 10.0 # congestions lasts D time steps\n",
    "gamma = 1.0 / D # Recovery rate\n",
    "\n",
    "# initial conditions: I0 congested, rest susceptible\n",
    "I0 = 994\n",
    "S0, R0 = N - I0, 0\n",
    "\n",
    "t = np.linspace(0, 23, 24) # Grid of time points (in timesteps)\n",
    "y0 = S0, I0, R0 # Initial conditions vector\n",
    "\n",
    "# Integrate the SIR equations over the time grid, t.\n",
    "ret = odeint(deriv, y0, t, args=(N, beta, gamma))\n",
    "S, I, R = ret.T\n",
    "\n",
    "plotsir_w_real_data(t, S, I, R, gdf_agg[0]['congested at rho = 0.9'].tolist())"
   ]
  },
  {
   "cell_type": "code",
   "execution_count": null,
   "metadata": {},
   "outputs": [],
   "source": []
  },
  {
   "cell_type": "code",
   "execution_count": null,
   "metadata": {},
   "outputs": [],
   "source": []
  },
  {
   "cell_type": "code",
   "execution_count": null,
   "metadata": {},
   "outputs": [],
   "source": []
  }
 ],
 "metadata": {
  "kernelspec": {
   "display_name": "fremont",
   "language": "python",
   "name": "fremont"
  },
  "language_info": {
   "codemirror_mode": {
    "name": "ipython",
    "version": 3
   },
   "file_extension": ".py",
   "mimetype": "text/x-python",
   "name": "python",
   "nbconvert_exporter": "python",
   "pygments_lexer": "ipython3",
   "version": "3.10.6"
  }
 },
 "nbformat": 4,
 "nbformat_minor": 4
}
