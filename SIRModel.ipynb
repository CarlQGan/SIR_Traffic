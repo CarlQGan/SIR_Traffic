{
 "cells": [
  {
   "cell_type": "markdown",
   "metadata": {},
   "source": [
    "# SIR Model on Traffic and its Application"
   ]
  },
  {
   "cell_type": "markdown",
   "metadata": {},
   "source": [
    "## Simple SIR Model"
   ]
  },
  {
   "cell_type": "code",
   "execution_count": 1,
   "metadata": {},
   "outputs": [],
   "source": [
    "import numpy as np\n",
    "from scipy.integrate import odeint\n",
    "import matplotlib.pyplot as plt\n",
    "\n",
    "# ipywidgets currently only works with jupyter notebook, not lab\n",
    "# installation guide: https://ipywidgets.readthedocs.io/en/stable/user_install.html\n",
    "import ipywidgets as widgets\n",
    "from ipywidgets import HBox, VBox, interactive\n",
    "from IPython.display import display\n",
    "%matplotlib inline"
   ]
  },
  {
   "cell_type": "code",
   "execution_count": 2,
   "metadata": {},
   "outputs": [],
   "source": [
    "def plot_simple_SIR(beta=0.2, gamma=0.1):\n",
    "    # Total population, N.\n",
    "    N = 1000\n",
    "    # Initial number of infected and recovered individuals, I0 and R0.\n",
    "    I0, R0 = 1, 0\n",
    "    # Everyone else, S0, is susceptible to infection initially.\n",
    "    S0 = N - I0 - R0\n",
    "    # Contact rate, beta, and mean recovery rate, gamma, (in 1/days).\n",
    "    # beta, gamma = 0.2, 1./10 \n",
    "    # A grid of time points (in days)\n",
    "    t = np.linspace(0, 160, 160)\n",
    "\n",
    "    # The SIR model differential equations.\n",
    "    def deriv(y, t, N, beta, gamma):\n",
    "        S, I, R = y\n",
    "        dSdt = -beta * S * I / N\n",
    "        dIdt = beta * S * I / N - gamma * I\n",
    "        dRdt = gamma * I\n",
    "        return dSdt, dIdt, dRdt\n",
    "\n",
    "    # Initial conditions vector\n",
    "    y0 = S0, I0, R0\n",
    "    # Integrate the SIR equations over the time grid, t.\n",
    "    ret = odeint(deriv, y0, t, args=(N, beta, gamma))\n",
    "    S, I, R = ret.T\n",
    "\n",
    "    # Plot the data on three separate curves for S(t), I(t) and R(t)\n",
    "    fig = plt.figure(facecolor='w')\n",
    "    ax = fig.add_subplot(111, facecolor='#dddddd', axisbelow=True)\n",
    "    ax.plot(t, S/1000, 'b', alpha=0.5, lw=2, label='Susceptible')\n",
    "    ax.plot(t, I/1000, 'r', alpha=0.5, lw=2, label='Infected')\n",
    "    ax.plot(t, R/1000, 'g', alpha=0.5, lw=2, label='Recovered with immunity')\n",
    "    ax.set_xlabel('Time /days')\n",
    "    ax.set_ylabel('Number (1000s)')\n",
    "    ax.set_ylim(0,1.2)\n",
    "    ax.yaxis.set_tick_params(length=0)\n",
    "    ax.xaxis.set_tick_params(length=0)\n",
    "    ax.grid(visible=True, which='major', c='w', lw=2, ls='-')\n",
    "    legend = ax.legend()\n",
    "    legend.get_frame().set_alpha(0.5)\n",
    "    for spine in ('top', 'right', 'bottom', 'left'):\n",
    "        ax.spines[spine].set_visible(False)\n",
    "    plt.show()"
   ]
  },
  {
   "cell_type": "code",
   "execution_count": 3,
   "metadata": {},
   "outputs": [
    {
     "data": {
      "application/vnd.jupyter.widget-view+json": {
       "model_id": "689b7cad57404509b11897d433c9b1d2",
       "version_major": 2,
       "version_minor": 0
      },
      "text/plain": [
       "interactive(children=(FloatSlider(value=0.2, description='beta', max=1.0, step=0.01), FloatSlider(value=0.1, d…"
      ]
     },
     "execution_count": 3,
     "metadata": {},
     "output_type": "execute_result"
    }
   ],
   "source": [
    "# Interactive beta and gamma\n",
    "# beta: effective contact rate\n",
    "# gamma: mean recovery rate, where 1/γ is \n",
    "#        the mean period of time during which \n",
    "#        an infected individual can pass it on\n",
    "\n",
    "interactive_plot = interactive(plot_simple_SIR, beta=(0.0, 1.0, 0.01), gamma=(0.0, 1.0, 0.01))\n",
    "output = interactive_plot.children[-1]\n",
    "output.layout.height = '350px'\n",
    "interactive_plot"
   ]
  },
  {
   "cell_type": "markdown",
   "metadata": {},
   "source": [
    "## Building the Traffic SIR Model (Saberi, M. et al.)"
   ]
  },
  {
   "cell_type": "code",
   "execution_count": 4,
   "metadata": {},
   "outputs": [],
   "source": [
    "def congested(v_t, v_max, rho):\n",
    "    \"\"\"\n",
    "    Return whether the link is congested\n",
    "    \n",
    "    Parameters:\n",
    "        v_t: the speed of the link at time t\n",
    "        v_max: the speed limit of the link\n",
    "        rho (float): congestion threshold\n",
    "        \n",
    "    Returns:\n",
    "        congested (int): 1 if congested else 0\n",
    "    \"\"\"\n",
    "    congested = (v_t / v_max) < rho\n",
    "    return congested"
   ]
  },
  {
   "cell_type": "code",
   "execution_count": 5,
   "metadata": {},
   "outputs": [],
   "source": [
    "def propagation_time(l, q_c, v_f, k_j):\n",
    "    \"\"\"\n",
    "    Return the time for congestion to propagate from link i\n",
    "    to the upstream link (i + 1)\n",
    "    \n",
    "    Parameters:\n",
    "        l: the length of the link\n",
    "        q_c: maximum flow of the link\n",
    "        v_f : free fkiw speed\n",
    "        k_j: jam density\n",
    "        \n",
    "    Returns:\n",
    "        eta (float): propagation time\n",
    "    \"\"\"\n",
    "    # critical density\n",
    "    k_c = q_c / v_f\n",
    "    \n",
    "    # shockwave speed\n",
    "    omega = q_c / (k_j - k_c)\n",
    "    \n",
    "    # propagation time\n",
    "    eta = l / omega\n",
    "    \n",
    "    return eta"
   ]
  },
  {
   "cell_type": "code",
   "execution_count": null,
   "metadata": {},
   "outputs": [],
   "source": [
    "def deriv_congested_links(l, q, v_f, k_j, t):\n",
    "    eta = propagation_time(l, q[t], v_f, k_j)\n",
    "    dCdt = 1 / eta\n",
    "    return dCdt"
   ]
  },
  {
   "cell_type": "code",
   "execution_count": 25,
   "metadata": {},
   "outputs": [],
   "source": [
    "def plot_traffic_SIR(beta=0.2, miu=0.1):\n",
    "    # Number of directed links\n",
    "    N = 1000\n",
    "    # Initial number of congested links\n",
    "    C_0 = 100\n",
    "    # Initial number of recovered links\n",
    "    R_0 = 0\n",
    "    # Initial number of free flow links\n",
    "    F_0 = N - C_0 - R_0\n",
    "    # average effective contacts at upstream,\n",
    "    # derived from homogenous mixing assumption\n",
    "    k = 1 # needs adjacency matrix\n",
    "\n",
    "    # A grid of time points (in 360 mins)\n",
    "    t = np.linspace(0, 360, 360)\n",
    "\n",
    "    # The SIR model differential equations\n",
    "    def deriv_traffic(y, t, N, beta, miu):\n",
    "        \"\"\"\n",
    "        Return the ordinary differential equations (ODEs) at time t\n",
    "\n",
    "        Parameters:\n",
    "            y: the initial conditions [F, C, R]\n",
    "            t: time steps\n",
    "            N: total number of links\n",
    "            beta: congestion propagation rate\n",
    "            miu: congestion recovery rate\n",
    "\n",
    "        Returns:\n",
    "            the ODEs at time t\n",
    "        \"\"\"\n",
    "        F, C, R = y\n",
    "        f, c, r = F / N, C / N, R / N\n",
    "\n",
    "        dCdt = - miu * c + beta * k * c * (1 - r - c)\n",
    "        dRdt = miu * c\n",
    "        dFdt = - beta * k * c * (1 - r - r)\n",
    "\n",
    "        return dCdt, dRdt, dFdt\n",
    "\n",
    "    # Initial conditions vector\n",
    "    y_0 = F_0, C_0, R_0\n",
    "    # Integrate the SIR equations over the time grid, t.\n",
    "    ret = odeint(deriv_traffic, y_0, t, args=(N, beta, miu))\n",
    "    F, C, R = ret.T\n",
    "\n",
    "    # Plot the data on three separate curves for F(t), C(t) and R(t)\n",
    "    fig = plt.figure(facecolor='w')\n",
    "    ax = fig.add_subplot(111, facecolor='#dddddd', axisbelow=True)\n",
    "    ax.plot(t, F/N, 'b', alpha=0.5, lw=2, label='Freeflow')\n",
    "    ax.plot(t, C/N, 'r', alpha=0.5, lw=2, label='Congested')\n",
    "    ax.plot(t, R/N, 'g', alpha=0.5, lw=2, label='Recovered')\n",
    "    ax.set_xlabel('Time /mins')\n",
    "    ax.set_ylabel('Number (1000s)')\n",
    "    ax.set_ylim(0, 1.2)\n",
    "    ax.yaxis.set_tick_params(length=0)\n",
    "    ax.xaxis.set_tick_params(length=0)\n",
    "    ax.grid(visible=True, which='major', c='w', lw=2, ls='-')\n",
    "    legend = ax.legend()\n",
    "    legend.get_frame().set_alpha(0.5)\n",
    "    for spine in ('top', 'right', 'bottom', 'left'):\n",
    "        ax.spines[spine].set_visible(False)\n",
    "    plt.show()"
   ]
  },
  {
   "cell_type": "code",
   "execution_count": 26,
   "metadata": {},
   "outputs": [
    {
     "data": {
      "application/vnd.jupyter.widget-view+json": {
       "model_id": "86d46d4f3e91410cb92717548aa41849",
       "version_major": 2,
       "version_minor": 0
      },
      "text/plain": [
       "interactive(children=(FloatSlider(value=0.2, description='beta', max=1.0, step=0.01), FloatSlider(value=0.1, d…"
      ]
     },
     "execution_count": 26,
     "metadata": {},
     "output_type": "execute_result"
    }
   ],
   "source": [
    "# Interactive beta and gamma\n",
    "# beta: effective contact rate\n",
    "# gamma: mean recovery rate, where 1/γ is \n",
    "#        the mean period of time during which \n",
    "#        an infected individual can pass it on\n",
    "\n",
    "interactive_plot = interactive(plot_traffic_SIR, beta=(0.0, 1.0, 0.01), miu=(0.0, 1.0, 0.01))\n",
    "output = interactive_plot.children[-1]\n",
    "output.layout.height = '350px'\n",
    "interactive_plot"
   ]
  },
  {
   "cell_type": "code",
   "execution_count": 17,
   "metadata": {},
   "outputs": [],
   "source": [
    "def plot_traffic_SIR(beta=0.2, miu=0.1):\n",
    "    # Number of directed links\n",
    "    N = 1000\n",
    "    # Initial number of congested links\n",
    "    C_0 = 1\n",
    "    # Initial number of recovered links\n",
    "    R_0 = 0\n",
    "    # Initial number of free flow links\n",
    "    F_0 = N - C_0 - R_0\n",
    "    # average effective contacts at upstream,\n",
    "    # derived from homogenous mixing assumption\n",
    "    k = 1 # needs adjacency matrix\n",
    "\n",
    "    # A grid of time points (in 360 mins)\n",
    "    t = np.linspace(0, 360, 360)\n",
    "\n",
    "    # The SIR model differential equations\n",
    "    def deriv_traffic(y, t, N, beta, miu):\n",
    "        \"\"\"\n",
    "        Return the ordinary differential equations (ODEs) at time t\n",
    "\n",
    "        Parameters:\n",
    "            y: the initial conditions [F, C, R]\n",
    "            t: time steps\n",
    "            N: total number of links\n",
    "            beta: congestion propagation rate\n",
    "            miu: congestion recovery rate\n",
    "\n",
    "        Returns:\n",
    "            the ODEs at time t\n",
    "        \"\"\"\n",
    "        F, C, R = y\n",
    "        frac_F, frac_C, frac_R = F / N, C / N, R / N\n",
    "\n",
    "        dFdt = - beta * k * C * (1 - frac_R - frac_C)\n",
    "        dCdt = - miu * C + beta * k * C * (1 - frac_R - frac_C)\n",
    "        dRdt = miu * C\n",
    "        \n",
    "        return dCdt, dRdt, dFdt\n",
    "\n",
    "    # Initial conditions vector\n",
    "    y_0 = F_0, C_0, R_0\n",
    "    # Integrate the SIR equations over the time grid, t.\n",
    "    ret = odeint(deriv_traffic, y_0, t, args=(N, beta, miu))\n",
    "    F, C, R = ret.T\n",
    "\n",
    "    # Plot the data on three separate curves for S(t), I(t) and R(t)\n",
    "    fig = plt.figure(facecolor='w')\n",
    "    ax = fig.add_subplot(111, facecolor='#dddddd', axisbelow=True)\n",
    "    ax.plot(t, F/N, 'b', alpha=0.5, lw=2, label='Freeflow')\n",
    "    ax.plot(t, C/N, 'r', alpha=0.5, lw=2, label='Congested')\n",
    "    ax.plot(t, R/N, 'g', alpha=0.5, lw=2, label='Recovered')\n",
    "    ax.set_xlabel('Time /mins')\n",
    "    ax.set_ylabel('Number (1000s)')\n",
    "    ax.set_ylim(0, 1.2)\n",
    "    ax.yaxis.set_tick_params(length=0)\n",
    "    ax.xaxis.set_tick_params(length=0)\n",
    "    ax.grid(visible=True, which='major', c='w', lw=2, ls='-')\n",
    "    legend = ax.legend()\n",
    "    legend.get_frame().set_alpha(0.5)\n",
    "    for spine in ('top', 'right', 'bottom', 'left'):\n",
    "        ax.spines[spine].set_visible(False)\n",
    "    plt.show()"
   ]
  },
  {
   "cell_type": "code",
   "execution_count": 18,
   "metadata": {},
   "outputs": [
    {
     "data": {
      "application/vnd.jupyter.widget-view+json": {
       "model_id": "7371313ed8b74feab4f2107017008a7e",
       "version_major": 2,
       "version_minor": 0
      },
      "text/plain": [
       "interactive(children=(FloatSlider(value=0.2, description='beta', max=1.0, step=0.01), FloatSlider(value=0.1, d…"
      ]
     },
     "execution_count": 18,
     "metadata": {},
     "output_type": "execute_result"
    }
   ],
   "source": [
    "# Interactive beta and gamma\n",
    "# beta: effective contact rate\n",
    "# gamma: mean recovery rate, where 1/γ is \n",
    "#        the mean period of time during which \n",
    "#        an infected individual can pass it on\n",
    "\n",
    "interactive_plot = interactive(plot_traffic_SIR, beta=(0.0, 1.0, 0.01), miu=(0.0, 1.0, 0.01))\n",
    "output = interactive_plot.children[-1]\n",
    "output.layout.height = '350px'\n",
    "interactive_plot"
   ]
  },
  {
   "cell_type": "markdown",
   "metadata": {},
   "source": [
    "## Extract data from the provided simulation (10/18)"
   ]
  },
  {
   "cell_type": "code",
   "execution_count": 3,
   "metadata": {},
   "outputs": [],
   "source": [
    "import sqlite3\n",
    "import copy\n",
    "import pandas as pd\n",
    "import matplotlib.pyplot as plt\n",
    "import numpy as np\n",
    "import geopandas as gpd\n",
    "import contextily as cx"
   ]
  },
  {
   "cell_type": "code",
   "execution_count": null,
   "metadata": {},
   "outputs": [],
   "source": [
    "# GLOBAL VARIABLES/CONSTANTS\n",
    "\n",
    "# SQLite File Path formatter\n",
    "__SQLITE_PATH_FORMAT = \"Data/alben_06_13_{number}0/micro_config.sqlite\"\n",
    "\n",
    "# sections.shp File Path\n",
    "__SECTION_SHP = \"Data/sections.shp\"\n",
    "\n",
    "# Number of experiments\n",
    "__NUM_EXP = 11\n",
    "\n",
    "# SQL Query to be excecuted for MISECT table\n",
    "__SQL_EXTRACT_MISECT_QUERY = 'SELECT * FROM MISECT'\n",
    "\n",
    "# Columns to extract from MISECT table\n",
    "__MISECT_COLUMNS = ['ent', 'eid', 'flow_capacity', 'ttime', 'speed', 'travel', 'traveltime']"
   ]
  },
  {
   "cell_type": "code",
   "execution_count": null,
   "metadata": {},
   "outputs": [],
   "source": []
  },
  {
   "cell_type": "code",
   "execution_count": null,
   "metadata": {},
   "outputs": [],
   "source": []
  }
 ],
 "metadata": {
  "kernelspec": {
   "display_name": "fremont",
   "language": "python",
   "name": "fremont"
  },
  "language_info": {
   "codemirror_mode": {
    "name": "ipython",
    "version": 3
   },
   "file_extension": ".py",
   "mimetype": "text/x-python",
   "name": "python",
   "nbconvert_exporter": "python",
   "pygments_lexer": "ipython3",
   "version": "3.10.6"
  }
 },
 "nbformat": 4,
 "nbformat_minor": 4
}
