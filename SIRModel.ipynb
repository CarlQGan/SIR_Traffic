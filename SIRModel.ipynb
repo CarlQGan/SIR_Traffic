{
 "cells": [
  {
   "cell_type": "markdown",
   "metadata": {},
   "source": [
    "# SIR Model on Traffic and its Application"
   ]
  },
  {
   "cell_type": "markdown",
   "metadata": {},
   "source": [
    "## Simple SIR Model"
   ]
  },
  {
   "cell_type": "code",
   "execution_count": 3,
   "metadata": {},
   "outputs": [],
   "source": [
    "import numpy as np\n",
    "from scipy.integrate import odeint\n",
    "import matplotlib.pyplot as plt\n",
    "\n",
    "# ipywidgets currently only works with jupyter notebook, not lab\n",
    "# installation guide: https://ipywidgets.readthedocs.io/en/stable/user_install.html\n",
    "import ipywidgets as widgets\n",
    "from ipywidgets import HBox, VBox, interactive\n",
    "from IPython.display import display\n",
    "%matplotlib inline"
   ]
  },
  {
   "cell_type": "code",
   "execution_count": 4,
   "metadata": {},
   "outputs": [],
   "source": [
    "def plot_simple_SIR(beta=0.2, gamma=0.1):\n",
    "    # Total population, N.\n",
    "    N = 1000\n",
    "    # Initial number of infected and recovered individuals, I0 and R0.\n",
    "    I0, R0 = 1, 0\n",
    "    # Everyone else, S0, is susceptible to infection initially.\n",
    "    S0 = N - I0 - R0\n",
    "    # Contact rate, beta, and mean recovery rate, gamma, (in 1/days).\n",
    "    # beta, gamma = 0.2, 1./10 \n",
    "    # A grid of time points (in days)\n",
    "    t = np.linspace(0, 160, 160)\n",
    "\n",
    "    # The SIR model differential equations.\n",
    "    def deriv(y, t, N, beta, gamma):\n",
    "        S, I, R = y\n",
    "        dSdt = -beta * S * I / N\n",
    "        dIdt = beta * S * I / N - gamma * I\n",
    "        dRdt = gamma * I\n",
    "        return dSdt, dIdt, dRdt\n",
    "\n",
    "    # Initial conditions vector\n",
    "    y0 = S0, I0, R0\n",
    "    # Integrate the SIR equations over the time grid, t.\n",
    "    ret = odeint(deriv, y0, t, args=(N, beta, gamma))\n",
    "    S, I, R = ret.T\n",
    "\n",
    "    # Plot the data on three separate curves for S(t), I(t) and R(t)\n",
    "    fig = plt.figure(facecolor='w')\n",
    "    ax = fig.add_subplot(111, facecolor='#dddddd', axisbelow=True)\n",
    "    ax.plot(t, S/1000, 'b', alpha=0.5, lw=2, label='Susceptible')\n",
    "    ax.plot(t, I/1000, 'r', alpha=0.5, lw=2, label='Infected')\n",
    "    ax.plot(t, R/1000, 'g', alpha=0.5, lw=2, label='Recovered with immunity')\n",
    "    ax.set_xlabel('Time /days')\n",
    "    ax.set_ylabel('Number (1000s)')\n",
    "    ax.set_ylim(0,1.2)\n",
    "    ax.yaxis.set_tick_params(length=0)\n",
    "    ax.xaxis.set_tick_params(length=0)\n",
    "    ax.grid(visible=True, which='major', c='w', lw=2, ls='-')\n",
    "    legend = ax.legend()\n",
    "    legend.get_frame().set_alpha(0.5)\n",
    "    for spine in ('top', 'right', 'bottom', 'left'):\n",
    "        ax.spines[spine].set_visible(False)\n",
    "    plt.show()"
   ]
  },
  {
   "cell_type": "code",
   "execution_count": 5,
   "metadata": {},
   "outputs": [
    {
     "data": {
      "application/vnd.jupyter.widget-view+json": {
       "model_id": "e7b4b46e61ce4e2da3f4e5cfb9b15841",
       "version_major": 2,
       "version_minor": 0
      },
      "text/plain": [
       "interactive(children=(FloatSlider(value=0.2, description='beta', max=1.0, step=0.01), FloatSlider(value=0.1, d…"
      ]
     },
     "execution_count": 5,
     "metadata": {},
     "output_type": "execute_result"
    }
   ],
   "source": [
    "# Interactive beta and gamma\n",
    "# beta: effective contact rate\n",
    "# gamma: mean recovery rate, where 1/γ is \n",
    "#        the mean period of time during which \n",
    "#        an infected individual can pass it on\n",
    "\n",
    "interactive_plot = interactive(plot_simple_SIR, beta=(0.0, 1.0, 0.01), gamma=(0.0, 1.0, 0.01))\n",
    "output = interactive_plot.children[-1]\n",
    "output.layout.height = '350px'\n",
    "interactive_plot"
   ]
  },
  {
   "cell_type": "code",
   "execution_count": 6,
   "metadata": {},
   "outputs": [],
   "source": [
    "def plot_fremont_SIR(beta=0.25, gamma=0.05):\n",
    "    # Total population, N.\n",
    "    N = 4397\n",
    "    # Initial number of infected and recovered individuals, I0 and R0.\n",
    "    # rho = 0.9\n",
    "    I0, R0 = 450, 0\n",
    "    # Everyone else, S0, is susceptible to infection initially.\n",
    "    S0 = N - I0 - R0\n",
    "    # Contact rate, beta, and mean recovery rate, gamma, (in 1/days).\n",
    "    # beta, gamma = 0.2, 1./10 \n",
    "    # A grid of time points (in quarters of an hour)\n",
    "    t = np.linspace(0, 24, 24)\n",
    "\n",
    "    # The SIR model differential equations.\n",
    "    def deriv(y, t, N, beta, gamma):\n",
    "        S, I, R = y\n",
    "        dSdt = -beta * S * I / N\n",
    "        dIdt = beta * S * I / N - gamma * I\n",
    "        dRdt = gamma * I\n",
    "        return dSdt, dIdt, dRdt\n",
    "\n",
    "    # Initial conditions vector\n",
    "    y0 = S0, I0, R0\n",
    "    # Integrate the SIR equations over the time grid, t.\n",
    "    ret = odeint(deriv, y0, t, args=(N, beta, gamma))\n",
    "    S, I, R = ret.T\n",
    "\n",
    "    # Plot the data on three separate curves for S(t), I(t) and R(t)\n",
    "    fig = plt.figure(facecolor='w')\n",
    "    ax = fig.add_subplot(111, facecolor='#dddddd', axisbelow=True)\n",
    "    ax.plot(t, S/1000, 'b', alpha=0.5, lw=2, label='Susceptible')\n",
    "    ax.plot(t, I/1000, 'r', alpha=0.5, lw=2, label='Infected')\n",
    "    ax.plot(t, R/1000, 'g', alpha=0.5, lw=2, label='Recovered with immunity')\n",
    "    ax.set_xlabel('Time /days')\n",
    "    ax.set_ylabel('Number (1000s)')\n",
    "#     ax.set_ylim(0,1.2)\n",
    "    ax.yaxis.set_tick_params(length=0)\n",
    "    ax.xaxis.set_tick_params(length=0)\n",
    "    ax.grid(visible=True, which='major', c='w', lw=2, ls='-')\n",
    "    legend = ax.legend()\n",
    "    legend.get_frame().set_alpha(0.5)\n",
    "    for spine in ('top', 'right', 'bottom', 'left'):\n",
    "        ax.spines[spine].set_visible(False)\n",
    "    plt.show()"
   ]
  },
  {
   "cell_type": "code",
   "execution_count": 7,
   "metadata": {},
   "outputs": [
    {
     "data": {
      "application/vnd.jupyter.widget-view+json": {
       "model_id": "a00ddad84ca94148bb402e5e6e62d463",
       "version_major": 2,
       "version_minor": 0
      },
      "text/plain": [
       "interactive(children=(FloatSlider(value=0.25, description='beta', max=1.0, step=0.01), FloatSlider(value=0.05,…"
      ]
     },
     "execution_count": 7,
     "metadata": {},
     "output_type": "execute_result"
    }
   ],
   "source": [
    "# Interactive beta and gamma\n",
    "# beta: effective contact rate\n",
    "# gamma: mean recovery rate, where 1/γ is \n",
    "#        the mean period of time during which \n",
    "#        an infected individual can pass it on\n",
    "\n",
    "interactive_plot = interactive(plot_fremont_SIR, beta=(0.0, 1.0, 0.01), gamma=(0.0, 1.0, 0.01))\n",
    "output = interactive_plot.children[-1]\n",
    "output.layout.height = '350px'\n",
    "interactive_plot"
   ]
  },
  {
   "cell_type": "markdown",
   "metadata": {},
   "source": [
    "## Building the Traffic SIR Model (Saberi, M. et al.)"
   ]
  },
  {
   "cell_type": "code",
   "execution_count": 8,
   "metadata": {},
   "outputs": [],
   "source": [
    "def congested(v_t, v_max, rho):\n",
    "    \"\"\"\n",
    "    Return whether the link is congested\n",
    "    \n",
    "    Parameters:\n",
    "        v_t: the speed of the link at time t\n",
    "        v_max: the speed limit of the link\n",
    "        rho (float): congestion threshold\n",
    "        \n",
    "    Returns:\n",
    "        congested (int): 1 if congested else 0\n",
    "    \"\"\"\n",
    "    congested = (v_t / v_max) < rho\n",
    "    return congested"
   ]
  },
  {
   "cell_type": "code",
   "execution_count": 9,
   "metadata": {},
   "outputs": [],
   "source": [
    "def propagation_time(l, q_c, v_f, k_j):\n",
    "    \"\"\"\n",
    "    Return the time for congestion to propagate from link i\n",
    "    to the upstream link (i + 1)\n",
    "    \n",
    "    Parameters:\n",
    "        l: the length of the link\n",
    "        q_c: maximum flow of the link\n",
    "        v_f : free fkiw speed\n",
    "        k_j: jam density\n",
    "        \n",
    "    Returns:\n",
    "        eta (float): propagation time\n",
    "    \"\"\"\n",
    "    # critical density\n",
    "    k_c = q_c / v_f\n",
    "    \n",
    "    # shockwave speed\n",
    "    omega = q_c / (k_j - k_c)\n",
    "    \n",
    "    # propagation time\n",
    "    eta = l / omega\n",
    "    \n",
    "    return eta"
   ]
  },
  {
   "cell_type": "code",
   "execution_count": 10,
   "metadata": {},
   "outputs": [],
   "source": [
    "def deriv_congested_links(l, q, v_f, k_j, t):\n",
    "    eta = propagation_time(l, q[t], v_f, k_j)\n",
    "    dCdt = 1 / eta\n",
    "    return dCdt"
   ]
  },
  {
   "cell_type": "code",
   "execution_count": 13,
   "metadata": {},
   "outputs": [],
   "source": [
    "def plot_traffic_SIR(beta=0.2, miu=0.1):\n",
    "    # Number of directed links\n",
    "    N = 1000\n",
    "    # Initial number of congested links\n",
    "    C_0 = 100\n",
    "    # Initial number of recovered links\n",
    "    R_0 = 0\n",
    "    # Initial number of free flow links\n",
    "    F_0 = N - C_0 - R_0\n",
    "    # average effective contacts at upstream,\n",
    "    # derived from homogenous mixing assumption\n",
    "    k = 1 # needs adjacency matrix\n",
    "    \n",
    "    c_0, r_0, f_0 = C_0 / N, R_0 / N, F_0 / N\n",
    "\n",
    "    # A grid of time points (in 360 mins)\n",
    "    t = np.linspace(0, 360, 360)\n",
    "\n",
    "    # The SIR model differential equations\n",
    "    def deriv_traffic(y, t, N, beta, miu):\n",
    "        \"\"\"\n",
    "        Return the ordinary differential equations (ODEs) at time t\n",
    "\n",
    "        Parameters:\n",
    "            y: the initial conditions [F, C, R]\n",
    "            t: time steps\n",
    "            N: total number of links\n",
    "            beta: congestion propagation rate\n",
    "            miu: congestion recovery rate\n",
    "\n",
    "        Returns:\n",
    "            the ODEs at time t\n",
    "        \"\"\"\n",
    "        f, c, r = y\n",
    "\n",
    "        dcdt = - miu * c + beta * k * c * (1 - r - c)\n",
    "        drdt = miu * c\n",
    "        dfdt = - beta * k * c * (1 - r - c)\n",
    "\n",
    "        return dcdt, drdt, dfdt\n",
    "\n",
    "    # Initial conditions vector\n",
    "    y_0 = f_0, c_0, r_0\n",
    "    # Integrate the SIR equations over the time grid, t.\n",
    "    ret = odeint(deriv_traffic, y_0, t, args=(N, beta, miu))\n",
    "    F, C, R = ret.T\n",
    "\n",
    "    # Plot the data on three separate curves for F(t), C(t) and R(t)\n",
    "    fig = plt.figure(facecolor='w')\n",
    "    ax = fig.add_subplot(111, facecolor='#dddddd', axisbelow=True)\n",
    "    ax.plot(t, F/N, 'b', alpha=0.5, lw=2, label='Freeflow')\n",
    "    ax.plot(t, C/N, 'r', alpha=0.5, lw=2, label='Congested')\n",
    "    ax.plot(t, R/N, 'g', alpha=0.5, lw=2, label='Recovered')\n",
    "    ax.set_xlabel('Time /mins')\n",
    "    ax.set_ylabel('Number (1000s)')\n",
    "    ax.set_ylim(0, 1.2)\n",
    "    ax.yaxis.set_tick_params(length=0)\n",
    "    ax.xaxis.set_tick_params(length=0)\n",
    "    ax.grid(visible=True, which='major', c='w', lw=2, ls='-')\n",
    "    legend = ax.legend()\n",
    "    legend.get_frame().set_alpha(0.5)\n",
    "    for spine in ('top', 'right', 'bottom', 'left'):\n",
    "        ax.spines[spine].set_visible(False)\n",
    "    plt.show()"
   ]
  },
  {
   "cell_type": "code",
   "execution_count": 14,
   "metadata": {},
   "outputs": [
    {
     "data": {
      "application/vnd.jupyter.widget-view+json": {
       "model_id": "fc6d863213b849ea9fc7468c00e4b3c6",
       "version_major": 2,
       "version_minor": 0
      },
      "text/plain": [
       "interactive(children=(FloatSlider(value=0.2, description='beta', max=1.0, step=0.01), FloatSlider(value=0.1, d…"
      ]
     },
     "execution_count": 14,
     "metadata": {},
     "output_type": "execute_result"
    }
   ],
   "source": [
    "# Interactive beta and gamma\n",
    "# beta: effective contact rate\n",
    "# gamma: mean recovery rate, where 1/γ is \n",
    "#        the mean period of time during which \n",
    "#        an infected individual can pass it on\n",
    "\n",
    "interactive_plot = interactive(plot_traffic_SIR, beta=(0.0, 1.0, 0.01), miu=(0.0, 1.0, 0.01))\n",
    "output = interactive_plot.children[-1]\n",
    "output.layout.height = '350px'\n",
    "interactive_plot"
   ]
  },
  {
   "cell_type": "code",
   "execution_count": 17,
   "metadata": {},
   "outputs": [],
   "source": [
    "def plot_traffic_SIR(beta=0.2, miu=0.1):\n",
    "    # Number of directed links\n",
    "    N = 1000\n",
    "    # Initial number of congested links\n",
    "    C_0 = 1\n",
    "    # Initial number of recovered links\n",
    "    R_0 = 0\n",
    "    # Initial number of free flow links\n",
    "    F_0 = N - C_0 - R_0\n",
    "    # average effective contacts at upstream,\n",
    "    # derived from homogenous mixing assumption\n",
    "    k = 1 # needs adjacency matrix\n",
    "\n",
    "    # A grid of time points (in 360 mins)\n",
    "    t = np.linspace(0, 360, 360)\n",
    "\n",
    "    # The SIR model differential equations\n",
    "    def deriv_traffic(y, t, N, beta, miu):\n",
    "        \"\"\"\n",
    "        Return the ordinary differential equations (ODEs) at time t\n",
    "\n",
    "        Parameters:\n",
    "            y: the initial conditions [F, C, R]\n",
    "            t: time steps\n",
    "            N: total number of links\n",
    "            beta: congestion propagation rate\n",
    "            miu: congestion recovery rate\n",
    "\n",
    "        Returns:\n",
    "            the ODEs at time t\n",
    "        \"\"\"\n",
    "        F, C, R = y\n",
    "        frac_F, frac_C, frac_R = F / N, C / N, R / N\n",
    "\n",
    "        dFdt = - beta * k * C * (1 - frac_R - frac_C)\n",
    "        dCdt = - miu * C + beta * k * C * (1 - frac_R - frac_C)\n",
    "        dRdt = miu * C\n",
    "        \n",
    "        return dCdt, dRdt, dFdt\n",
    "\n",
    "    # Initial conditions vector\n",
    "    y_0 = F_0, C_0, R_0\n",
    "    # Integrate the SIR equations over the time grid, t.\n",
    "    ret = odeint(deriv_traffic, y_0, t, args=(N, beta, miu))\n",
    "    F, C, R = ret.T\n",
    "\n",
    "    # Plot the data on three separate curves for S(t), I(t) and R(t)\n",
    "    fig = plt.figure(facecolor='w')\n",
    "    ax = fig.add_subplot(111, facecolor='#dddddd', axisbelow=True)\n",
    "    ax.plot(t, F/N, 'b', alpha=0.5, lw=2, label='Freeflow')\n",
    "    ax.plot(t, C/N, 'r', alpha=0.5, lw=2, label='Congested')\n",
    "    ax.plot(t, R/N, 'g', alpha=0.5, lw=2, label='Recovered')\n",
    "    ax.set_xlabel('Time /mins')\n",
    "    ax.set_ylabel('Number (1000s)')\n",
    "    ax.set_ylim(0, 1.2)\n",
    "    ax.yaxis.set_tick_params(length=0)\n",
    "    ax.xaxis.set_tick_params(length=0)\n",
    "    ax.grid(visible=True, which='major', c='w', lw=2, ls='-')\n",
    "    legend = ax.legend()\n",
    "    legend.get_frame().set_alpha(0.5)\n",
    "    for spine in ('top', 'right', 'bottom', 'left'):\n",
    "        ax.spines[spine].set_visible(False)\n",
    "    plt.show()"
   ]
  },
  {
   "cell_type": "code",
   "execution_count": 18,
   "metadata": {},
   "outputs": [
    {
     "data": {
      "application/vnd.jupyter.widget-view+json": {
       "model_id": "7371313ed8b74feab4f2107017008a7e",
       "version_major": 2,
       "version_minor": 0
      },
      "text/plain": [
       "interactive(children=(FloatSlider(value=0.2, description='beta', max=1.0, step=0.01), FloatSlider(value=0.1, d…"
      ]
     },
     "execution_count": 18,
     "metadata": {},
     "output_type": "execute_result"
    }
   ],
   "source": [
    "# Interactive beta and gamma\n",
    "# beta: effective contact rate\n",
    "# gamma: mean recovery rate, where 1/γ is \n",
    "#        the mean period of time during which \n",
    "#        an infected individual can pass it on\n",
    "\n",
    "interactive_plot = interactive(plot_traffic_SIR, beta=(0.0, 1.0, 0.01), miu=(0.0, 1.0, 0.01))\n",
    "output = interactive_plot.children[-1]\n",
    "output.layout.height = '350px'\n",
    "interactive_plot"
   ]
  },
  {
   "cell_type": "markdown",
   "metadata": {},
   "source": [
    "## Extract data from the provided simulation (10/18)"
   ]
  },
  {
   "cell_type": "code",
   "execution_count": 10,
   "metadata": {},
   "outputs": [],
   "source": [
    "import sqlite3\n",
    "import copy\n",
    "import pandas as pd\n",
    "import matplotlib.pyplot as plt\n",
    "import numpy as np\n",
    "import geopandas as gpd\n",
    "import contextily as cx"
   ]
  },
  {
   "cell_type": "code",
   "execution_count": 14,
   "metadata": {},
   "outputs": [],
   "source": [
    "# GLOBAL VARIABLES/CONSTANTS\n",
    "\n",
    "# SQLite File Path formatter\n",
    "__SQLITE_PATH_FORMAT = \"Data/carl_10_18_18_saberi/Dynamel_06_09_2018_rpl_{number}.sqlite\"\n",
    "\n",
    "# sections.shp File Path\n",
    "# __SECTION_SHP = \"Data/sections.shp\"\n",
    "\n",
    "# Number of experiments\n",
    "__NUM_EXP = 3\n",
    "\n",
    "# SQL Query to be excecuted for MISECT table\n",
    "__SQL_EXTRACT_QUERY = 'SELECT * FROM MESECT'\n",
    "\n",
    "# Columns to extract from MISECT table\n",
    "__COLUMNS = ['ent', 'eid', 'flow_capacity', 'speed', 'travel', 'traveltime']"
   ]
  },
  {
   "cell_type": "code",
   "execution_count": 15,
   "metadata": {},
   "outputs": [],
   "source": [
    "# Create a SQL connection to our SQLite database\n",
    "\n",
    "# A list of established connections to our databases\n",
    "con = []\n",
    "\n",
    "for i in range(__NUM_EXP):\n",
    "    con.append(sqlite3.connect(__SQLITE_PATH_FORMAT.format(number=i)))"
   ]
  },
  {
   "cell_type": "code",
   "execution_count": 16,
   "metadata": {},
   "outputs": [
    {
     "ename": "KeyboardInterrupt",
     "evalue": "",
     "output_type": "error",
     "traceback": [
      "\u001b[0;31m---------------------------------------------------------------------------\u001b[0m",
      "\u001b[0;31mKeyboardInterrupt\u001b[0m                         Traceback (most recent call last)",
      "    \u001b[0;31m[... skipping hidden 1 frame]\u001b[0m\n",
      "Input \u001b[0;32mIn [16]\u001b[0m, in \u001b[0;36m<cell line: 8>\u001b[0;34m()\u001b[0m\n\u001b[1;32m      8\u001b[0m \u001b[38;5;28;01mfor\u001b[39;00m i \u001b[38;5;129;01min\u001b[39;00m \u001b[38;5;28mrange\u001b[39m(__NUM_EXP):\n\u001b[1;32m      9\u001b[0m     \u001b[38;5;66;03m# Run SQL\u001b[39;00m\n\u001b[0;32m---> 10\u001b[0m     query \u001b[38;5;241m=\u001b[39m \u001b[43mpd\u001b[49m\u001b[38;5;241;43m.\u001b[39;49m\u001b[43mread_sql\u001b[49m\u001b[43m(\u001b[49m\u001b[43m__SQL_EXTRACT_MISECT_QUERY\u001b[49m\u001b[43m,\u001b[49m\u001b[43m \u001b[49m\u001b[43mcon\u001b[49m\u001b[43m[\u001b[49m\u001b[43mi\u001b[49m\u001b[43m]\u001b[49m\u001b[43m)\u001b[49m\n\u001b[1;32m     11\u001b[0m     sql_queries\u001b[38;5;241m.\u001b[39mappend(query)\n",
      "File \u001b[0;32m/opt/anaconda3/envs/fremont/lib/python3.10/site-packages/pandas/io/sql.py:567\u001b[0m, in \u001b[0;36mread_sql\u001b[0;34m(sql, con, index_col, coerce_float, params, parse_dates, columns, chunksize)\u001b[0m\n\u001b[1;32m    566\u001b[0m \u001b[38;5;28;01mif\u001b[39;00m \u001b[38;5;28misinstance\u001b[39m(pandas_sql, SQLiteDatabase):\n\u001b[0;32m--> 567\u001b[0m     \u001b[38;5;28;01mreturn\u001b[39;00m \u001b[43mpandas_sql\u001b[49m\u001b[38;5;241;43m.\u001b[39;49m\u001b[43mread_query\u001b[49m\u001b[43m(\u001b[49m\n\u001b[1;32m    568\u001b[0m \u001b[43m        \u001b[49m\u001b[43msql\u001b[49m\u001b[43m,\u001b[49m\n\u001b[1;32m    569\u001b[0m \u001b[43m        \u001b[49m\u001b[43mindex_col\u001b[49m\u001b[38;5;241;43m=\u001b[39;49m\u001b[43mindex_col\u001b[49m\u001b[43m,\u001b[49m\n\u001b[1;32m    570\u001b[0m \u001b[43m        \u001b[49m\u001b[43mparams\u001b[49m\u001b[38;5;241;43m=\u001b[39;49m\u001b[43mparams\u001b[49m\u001b[43m,\u001b[49m\n\u001b[1;32m    571\u001b[0m \u001b[43m        \u001b[49m\u001b[43mcoerce_float\u001b[49m\u001b[38;5;241;43m=\u001b[39;49m\u001b[43mcoerce_float\u001b[49m\u001b[43m,\u001b[49m\n\u001b[1;32m    572\u001b[0m \u001b[43m        \u001b[49m\u001b[43mparse_dates\u001b[49m\u001b[38;5;241;43m=\u001b[39;49m\u001b[43mparse_dates\u001b[49m\u001b[43m,\u001b[49m\n\u001b[1;32m    573\u001b[0m \u001b[43m        \u001b[49m\u001b[43mchunksize\u001b[49m\u001b[38;5;241;43m=\u001b[39;49m\u001b[43mchunksize\u001b[49m\u001b[43m,\u001b[49m\n\u001b[1;32m    574\u001b[0m \u001b[43m    \u001b[49m\u001b[43m)\u001b[49m\n\u001b[1;32m    576\u001b[0m \u001b[38;5;28;01mtry\u001b[39;00m:\n",
      "File \u001b[0;32m/opt/anaconda3/envs/fremont/lib/python3.10/site-packages/pandas/io/sql.py:2097\u001b[0m, in \u001b[0;36mSQLiteDatabase.read_query\u001b[0;34m(self, sql, index_col, coerce_float, params, parse_dates, chunksize, dtype)\u001b[0m\n\u001b[1;32m   2096\u001b[0m \u001b[38;5;28;01melse\u001b[39;00m:\n\u001b[0;32m-> 2097\u001b[0m     data \u001b[38;5;241m=\u001b[39m \u001b[38;5;28;43mself\u001b[39;49m\u001b[38;5;241;43m.\u001b[39;49m\u001b[43m_fetchall_as_list\u001b[49m\u001b[43m(\u001b[49m\u001b[43mcursor\u001b[49m\u001b[43m)\u001b[49m\n\u001b[1;32m   2098\u001b[0m     cursor\u001b[38;5;241m.\u001b[39mclose()\n",
      "File \u001b[0;32m/opt/anaconda3/envs/fremont/lib/python3.10/site-packages/pandas/io/sql.py:2111\u001b[0m, in \u001b[0;36mSQLiteDatabase._fetchall_as_list\u001b[0;34m(self, cur)\u001b[0m\n\u001b[1;32m   2110\u001b[0m \u001b[38;5;28;01mdef\u001b[39;00m \u001b[38;5;21m_fetchall_as_list\u001b[39m(\u001b[38;5;28mself\u001b[39m, cur):\n\u001b[0;32m-> 2111\u001b[0m     result \u001b[38;5;241m=\u001b[39m \u001b[43mcur\u001b[49m\u001b[38;5;241;43m.\u001b[39;49m\u001b[43mfetchall\u001b[49m\u001b[43m(\u001b[49m\u001b[43m)\u001b[49m\n\u001b[1;32m   2112\u001b[0m     \u001b[38;5;28;01mif\u001b[39;00m \u001b[38;5;129;01mnot\u001b[39;00m \u001b[38;5;28misinstance\u001b[39m(result, \u001b[38;5;28mlist\u001b[39m):\n",
      "\u001b[0;31mKeyboardInterrupt\u001b[0m: ",
      "\nDuring handling of the above exception, another exception occurred:\n",
      "\u001b[0;31mKeyboardInterrupt\u001b[0m                         Traceback (most recent call last)",
      "\u001b[0;31mKeyboardInterrupt\u001b[0m: "
     ]
    }
   ],
   "source": [
    "# Run SQL query and convert SQL to DataFrame\n",
    "\n",
    "# List of the sql queries\n",
    "sql_queries = []\n",
    "\n",
    "# List of dataframes extracted from each experiment\n",
    "df = []\n",
    "for i in range(__NUM_EXP):\n",
    "    # Run SQL\n",
    "    query = pd.read_sql(__SQL_EXTRACT_QUERY, con[i])\n",
    "    sql_queries.append(query)\n",
    "    \n",
    "    # Convert SQL to DataFrame\n",
    "    dataframe = pd.DataFrame(query, columns = __COLUMNS)\n",
    "    df.append(dataframe)"
   ]
  },
  {
   "cell_type": "code",
   "execution_count": null,
   "metadata": {},
   "outputs": [],
   "source": [
    "# Create a deep copy of df as back up in order not to rerun the above cell\n",
    "df_copy = copy.deepcopy(df)"
   ]
  },
  {
   "cell_type": "code",
   "execution_count": null,
   "metadata": {},
   "outputs": [],
   "source": []
  },
  {
   "cell_type": "code",
   "execution_count": null,
   "metadata": {},
   "outputs": [],
   "source": []
  },
  {
   "cell_type": "code",
   "execution_count": null,
   "metadata": {},
   "outputs": [],
   "source": []
  },
  {
   "cell_type": "code",
   "execution_count": null,
   "metadata": {},
   "outputs": [],
   "source": []
  }
 ],
 "metadata": {
  "kernelspec": {
   "display_name": "fremont",
   "language": "python",
   "name": "fremont"
  },
  "language_info": {
   "codemirror_mode": {
    "name": "ipython",
    "version": 3
   },
   "file_extension": ".py",
   "mimetype": "text/x-python",
   "name": "python",
   "nbconvert_exporter": "python",
   "pygments_lexer": "ipython3",
   "version": "3.10.6"
  }
 },
 "nbformat": 4,
 "nbformat_minor": 4
}
