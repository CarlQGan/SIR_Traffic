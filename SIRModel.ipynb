{
 "cells": [
  {
   "cell_type": "markdown",
   "metadata": {},
   "source": [
    "# SIR Model on Traffic and its Application"
   ]
  },
  {
   "cell_type": "markdown",
   "metadata": {},
   "source": [
    "## Simple SIR Model"
   ]
  },
  {
   "cell_type": "code",
   "execution_count": 1,
   "metadata": {},
   "outputs": [],
   "source": [
    "import numpy as np\n",
    "from scipy.integrate import odeint\n",
    "import matplotlib.pyplot as plt\n",
    "import ipywidgets as widgets\n",
    "from ipywidgets import HBox, VBox\n",
    "from IPython.display import display\n",
    "%matplotlib inline"
   ]
  },
  {
   "cell_type": "code",
   "execution_count": 8,
   "metadata": {},
   "outputs": [],
   "source": [
    "def plot_simple_SIR(beta=0.2, gamma=0.1):\n",
    "    # Total population, N.\n",
    "    N = 1000\n",
    "    # Initial number of infected and recovered individuals, I0 and R0.\n",
    "    I0, R0 = 1, 0\n",
    "    # Everyone else, S0, is susceptible to infection initially.\n",
    "    S0 = N - I0 - R0\n",
    "    # Contact rate, beta, and mean recovery rate, gamma, (in 1/days).\n",
    "    # beta, gamma = 0.2, 1./10 \n",
    "    # A grid of time points (in days)\n",
    "    t = np.linspace(0, 160, 160)\n",
    "\n",
    "    # The SIR model differential equations.\n",
    "    def deriv(y, t, N, beta, gamma):\n",
    "        S, I, R = y\n",
    "        dSdt = -beta * S * I / N\n",
    "        dIdt = beta * S * I / N - gamma * I\n",
    "        dRdt = gamma * I\n",
    "        return dSdt, dIdt, dRdt\n",
    "\n",
    "    # Initial conditions vector\n",
    "    y0 = S0, I0, R0\n",
    "    # Integrate the SIR equations over the time grid, t.\n",
    "    ret = odeint(deriv, y0, t, args=(N, beta, gamma))\n",
    "    S, I, R = ret.T\n",
    "\n",
    "    # Plot the data on three separate curves for S(t), I(t) and R(t)\n",
    "    fig = plt.figure(facecolor='w')\n",
    "    ax = fig.add_subplot(111, facecolor='#dddddd', axisbelow=True)\n",
    "    ax.plot(t, S/1000, 'b', alpha=0.5, lw=2, label='Susceptible')\n",
    "    ax.plot(t, I/1000, 'r', alpha=0.5, lw=2, label='Infected')\n",
    "    ax.plot(t, R/1000, 'g', alpha=0.5, lw=2, label='Recovered with immunity')\n",
    "    ax.set_xlabel('Time /days')\n",
    "    ax.set_ylabel('Number (1000s)')\n",
    "    ax.set_ylim(0,1.2)\n",
    "    ax.yaxis.set_tick_params(length=0)\n",
    "    ax.xaxis.set_tick_params(length=0)\n",
    "    ax.grid(visible=True, which='major', c='w', lw=2, ls='-')\n",
    "    legend = ax.legend()\n",
    "    legend.get_frame().set_alpha(0.5)\n",
    "    for spine in ('top', 'right', 'bottom', 'left'):\n",
    "        ax.spines[spine].set_visible(False)\n",
    "    plt.show()"
   ]
  },
  {
   "cell_type": "code",
   "execution_count": 10,
   "metadata": {},
   "outputs": [
    {
     "data": {
      "application/vnd.jupyter.widget-view+json": {
       "model_id": "0a080f83aae641a28264cf8e5a1d2fbd",
       "version_major": 2,
       "version_minor": 0
      },
      "text/plain": [
       "interactive(children=(FloatSlider(value=0.2, description='beta', max=1.0, step=0.01), FloatSlider(value=0.1, d…"
      ]
     },
     "execution_count": 10,
     "metadata": {},
     "output_type": "execute_result"
    }
   ],
   "source": [
    "# Interactive beta and gamma\n",
    "# beta: effective contact rate\n",
    "# gamma: mean recovery rate, where 1/γ is \n",
    "#        the mean period of time during which \n",
    "#        an infected individual can pass it on\n",
    "\n",
    "interactive_plot = interactive(plot_simple_SIR, beta=(0.0, 1.0, 0.01), gamma=(0.0, 1.0, 0.01))\n",
    "output = interactive_plot.children[-1]\n",
    "output.layout.height = '350px'\n",
    "interactive_plot"
   ]
  },
  {
   "cell_type": "markdown",
   "metadata": {},
   "source": [
    "## Building the Traffic SIR Model (Saberi, M. et al.)"
   ]
  },
  {
   "cell_type": "code",
   "execution_count": null,
   "metadata": {},
   "outputs": [],
   "source": []
  },
  {
   "cell_type": "code",
   "execution_count": null,
   "metadata": {},
   "outputs": [],
   "source": []
  },
  {
   "cell_type": "code",
   "execution_count": null,
   "metadata": {},
   "outputs": [],
   "source": []
  },
  {
   "cell_type": "code",
   "execution_count": null,
   "metadata": {},
   "outputs": [],
   "source": []
  },
  {
   "cell_type": "code",
   "execution_count": null,
   "metadata": {},
   "outputs": [],
   "source": []
  },
  {
   "cell_type": "markdown",
   "metadata": {},
   "source": [
    "## Extract data from the provided simulation (10/18)"
   ]
  },
  {
   "cell_type": "code",
   "execution_count": 3,
   "metadata": {},
   "outputs": [],
   "source": [
    "import sqlite3\n",
    "import copy\n",
    "import pandas as pd\n",
    "import matplotlib.pyplot as plt\n",
    "import numpy as np\n",
    "import geopandas as gpd\n",
    "import contextily as cx"
   ]
  },
  {
   "cell_type": "code",
   "execution_count": null,
   "metadata": {},
   "outputs": [],
   "source": [
    "# GLOBAL VARIABLES/CONSTANTS\n",
    "\n",
    "# SQLite File Path formatter\n",
    "__SQLITE_PATH_FORMAT = \"Data/alben_06_13_{number}0/micro_config.sqlite\"\n",
    "\n",
    "# sections.shp File Path\n",
    "__SECTION_SHP = \"Data/sections.shp\"\n",
    "\n",
    "# Number of experiments\n",
    "__NUM_EXP = 11\n",
    "\n",
    "# SQL Query to be excecuted for MISECT table\n",
    "__SQL_EXTRACT_MISECT_QUERY = 'SELECT * FROM MISECT'\n",
    "\n",
    "# Columns to extract from MISECT table\n",
    "__MISECT_COLUMNS = ['ent', 'eid', 'flow_capacity', 'ttime', 'speed', 'travel', 'traveltime']"
   ]
  },
  {
   "cell_type": "code",
   "execution_count": null,
   "metadata": {},
   "outputs": [],
   "source": []
  },
  {
   "cell_type": "code",
   "execution_count": null,
   "metadata": {},
   "outputs": [],
   "source": []
  }
 ],
 "metadata": {
  "kernelspec": {
   "display_name": "fremont",
   "language": "python",
   "name": "fremont"
  },
  "language_info": {
   "codemirror_mode": {
    "name": "ipython",
    "version": 3
   },
   "file_extension": ".py",
   "mimetype": "text/x-python",
   "name": "python",
   "nbconvert_exporter": "python",
   "pygments_lexer": "ipython3",
   "version": "3.10.6"
  }
 },
 "nbformat": 4,
 "nbformat_minor": 4
}
